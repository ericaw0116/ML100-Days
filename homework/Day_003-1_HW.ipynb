{
 "cells": [
  {
   "cell_type": "markdown",
   "metadata": {},
   "source": [
    "## 練習時間\n",
    "在小量的資料上，我們用眼睛就可以看得出來程式碼是否有跑出我們理想中的結果\n",
    "\n",
    "請嘗試想像一個你需要的資料結構 (裡面的值可以是隨機的)，然後用上述的方法把它變成 pandas DataFrame\n",
    "\n",
    "#### Ex: 想像一個 dataframe 有兩個欄位，一個是國家，一個是人口，求人口數最多的國家\n",
    "\n",
    "### Hints: [隨機產生數值](https://blog.csdn.net/christianashannon/article/details/78867204)"
   ]
  },
  {
   "cell_type": "code",
   "execution_count": 1,
   "metadata": {
    "collapsed": true
   },
   "outputs": [],
   "source": [
    "#用於讀取以及管理資料\n",
    "import pandas as pd\n",
    "#用於數學函數的運算\n",
    "import numpy as np"
   ]
  },
  {
   "cell_type": "code",
   "execution_count": 2,
   "metadata": {},
   "outputs": [
    {
     "name": "stdout",
     "output_type": "stream",
     "text": [
      "[('country', ['Taiwan', 'Thailand', 'United States', 'France', 'India', 'Canada', 'Japan', 'China', 'Korea', 'Singapore']), ('population', [402928695, 65565556, 168133856, 53217896, 59058282, 107876000, 357617953, 22174773, 473338514, 388681471])]\n"
     ]
    }
   ],
   "source": [
    "#輸入10個國家\n",
    "countries = [\"Taiwan\", \"Thailand\", \"United States\", \"France\", \"India\", \"Canada\", \"Japan\", \"China\", \"Korea\", \"Singapore\"]\n",
    "#隨機給予人口數\n",
    "popu = list(np.random.randint(5000000, 500000000, 10))\n",
    "\n",
    "#欄位名稱及數值\n",
    "list_labels = [\"country\", \"population\"]\n",
    "list_cols = [countries, popu]\n",
    "\n",
    "zipped = list(zip(list_labels, list_cols))\n",
    "print(zipped)"
   ]
  },
  {
   "cell_type": "code",
   "execution_count": 3,
   "metadata": {},
   "outputs": [
    {
     "name": "stdout",
     "output_type": "stream",
     "text": [
      "         country  population\n",
      "0         Taiwan   402928695\n",
      "1       Thailand    65565556\n",
      "2  United States   168133856\n",
      "3         France    53217896\n",
      "4          India    59058282\n",
      "5         Canada   107876000\n",
      "6          Japan   357617953\n",
      "7          China    22174773\n",
      "8          Korea   473338514\n",
      "9      Singapore   388681471\n"
     ]
    }
   ],
   "source": [
    "#轉換成dataframe\n",
    "data = pd.DataFrame(dict(zipped))\n",
    "print(data)"
   ]
  },
  {
   "cell_type": "markdown",
   "metadata": {},
   "source": [
    "找出人口數最多的國家"
   ]
  },
  {
   "cell_type": "code",
   "execution_count": 4,
   "metadata": {},
   "outputs": [
    {
     "data": {
      "text/plain": [
       "country           Korea\n",
       "population    473338514\n",
       "Name: 8, dtype: object"
      ]
     },
     "execution_count": 4,
     "metadata": {},
     "output_type": "execute_result"
    }
   ],
   "source": [
    "#找出population最大值的index\n",
    "max_id = data[\"population\"].argmax()\n",
    "#讀取index為max_id的那一行\n",
    "data.loc[max_id]"
   ]
  },
  {
   "cell_type": "code",
   "execution_count": null,
   "metadata": {
    "collapsed": true
   },
   "outputs": [],
   "source": []
  }
 ],
 "metadata": {
  "kernelspec": {
   "display_name": "Python 3",
   "language": "python",
   "name": "python3"
  },
  "language_info": {
   "codemirror_mode": {
    "name": "ipython",
    "version": 3
   },
   "file_extension": ".py",
   "mimetype": "text/x-python",
   "name": "python",
   "nbconvert_exporter": "python",
   "pygments_lexer": "ipython3",
   "version": "3.6.1"
  }
 },
 "nbformat": 4,
 "nbformat_minor": 2
}
