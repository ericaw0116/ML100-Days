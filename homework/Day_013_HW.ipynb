{
 "cells": [
  {
   "cell_type": "markdown",
   "metadata": {},
   "source": [
    "## 練習時間\n",
    "參考 Day 12 範例程式，離散化你覺得有興趣的欄位，並嘗試找出有趣的訊息"
   ]
  },
  {
   "cell_type": "code",
   "execution_count": 1,
   "metadata": {
    "collapsed": true
   },
   "outputs": [],
   "source": [
    "# Import 需要的套件\n",
    "import os\n",
    "import numpy as np\n",
    "import pandas as pd\n",
    "\n",
    "import warnings\n",
    "warnings.filterwarnings('ignore')\n",
    "\n",
    "import matplotlib.pyplot as plt\n",
    "%matplotlib inline"
   ]
  },
  {
   "cell_type": "markdown",
   "metadata": {},
   "source": [
    "### 之前做過的處理"
   ]
  },
  {
   "cell_type": "code",
   "execution_count": 2,
   "metadata": {
    "collapsed": true
   },
   "outputs": [],
   "source": [
    "# 設定 data_path\n",
    "dir_data = './data/'\n",
    "f_app_train = os.path.join(dir_data, 'application_train.csv')\n",
    "f_app_test = os.path.join(dir_data, 'application_test.csv')\n",
    "\n",
    "app_train = pd.read_csv(f_app_train)\n",
    "app_test = pd.read_csv(f_app_test)\n",
    "\n",
    "from sklearn.preprocessing import LabelEncoder\n",
    "\n",
    "# Create a label encoder object\n",
    "le = LabelEncoder()\n",
    "le_count = 0\n",
    "\n",
    "# Iterate through the columns\n",
    "for col in app_train:\n",
    "    if app_train[col].dtype == 'object':\n",
    "        # If 2 or fewer unique categories\n",
    "        if len(list(app_train[col].unique())) <= 2:\n",
    "            # Train on the training data\n",
    "            le.fit(app_train[col])\n",
    "            # Transform both training and testing data\n",
    "            app_train[col] = le.transform(app_train[col])\n",
    "            app_test[col] = le.transform(app_test[col])\n",
    "            \n",
    "            # Keep track of how many columns were label encoded\n",
    "            le_count += 1\n",
    "            \n",
    "app_train = pd.get_dummies(app_train)\n",
    "app_test = pd.get_dummies(app_test)\n",
    "\n",
    "# Create an anomalous flag column\n",
    "app_train['DAYS_EMPLOYED_ANOM'] = app_train[\"DAYS_EMPLOYED\"] == 365243\n",
    "app_train['DAYS_EMPLOYED'].replace({365243: np.nan}, inplace = True)\n",
    "# also apply to testing dataset\n",
    "app_test['DAYS_EMPLOYED_ANOM'] = app_test[\"DAYS_EMPLOYED\"] == 365243\n",
    "app_test[\"DAYS_EMPLOYED\"].replace({365243: np.nan}, inplace = True)\n",
    "\n",
    "# absolute the value of DAYS_BIRTH\n",
    "app_train['DAYS_BIRTH'] = abs(app_train['DAYS_BIRTH'])\n",
    "app_test['DAYS_BIRTH'] = abs(app_test['DAYS_BIRTH'])"
   ]
  },
  {
   "cell_type": "code",
   "execution_count": 3,
   "metadata": {},
   "outputs": [
    {
     "data": {
      "text/html": [
       "<div>\n",
       "<style>\n",
       "    .dataframe thead tr:only-child th {\n",
       "        text-align: right;\n",
       "    }\n",
       "\n",
       "    .dataframe thead th {\n",
       "        text-align: left;\n",
       "    }\n",
       "\n",
       "    .dataframe tbody tr th {\n",
       "        vertical-align: top;\n",
       "    }\n",
       "</style>\n",
       "<table border=\"1\" class=\"dataframe\">\n",
       "  <thead>\n",
       "    <tr style=\"text-align: right;\">\n",
       "      <th></th>\n",
       "      <th>AMT_INCOME_TOTAL</th>\n",
       "      <th>DAYS_EMPLOYED</th>\n",
       "      <th>DAYS_BIRTH</th>\n",
       "      <th>Years_EMPLOYED</th>\n",
       "      <th>Years_BIRTH</th>\n",
       "    </tr>\n",
       "  </thead>\n",
       "  <tbody>\n",
       "    <tr>\n",
       "      <th>0</th>\n",
       "      <td>202500.0</td>\n",
       "      <td>637.0</td>\n",
       "      <td>9461</td>\n",
       "      <td>1.745205</td>\n",
       "      <td>25.920548</td>\n",
       "    </tr>\n",
       "    <tr>\n",
       "      <th>1</th>\n",
       "      <td>270000.0</td>\n",
       "      <td>1188.0</td>\n",
       "      <td>16765</td>\n",
       "      <td>3.254795</td>\n",
       "      <td>45.931507</td>\n",
       "    </tr>\n",
       "    <tr>\n",
       "      <th>2</th>\n",
       "      <td>67500.0</td>\n",
       "      <td>225.0</td>\n",
       "      <td>19046</td>\n",
       "      <td>0.616438</td>\n",
       "      <td>52.180822</td>\n",
       "    </tr>\n",
       "    <tr>\n",
       "      <th>3</th>\n",
       "      <td>135000.0</td>\n",
       "      <td>3039.0</td>\n",
       "      <td>19005</td>\n",
       "      <td>8.326027</td>\n",
       "      <td>52.068493</td>\n",
       "    </tr>\n",
       "    <tr>\n",
       "      <th>4</th>\n",
       "      <td>121500.0</td>\n",
       "      <td>3038.0</td>\n",
       "      <td>19932</td>\n",
       "      <td>8.323288</td>\n",
       "      <td>54.608219</td>\n",
       "    </tr>\n",
       "  </tbody>\n",
       "</table>\n",
       "</div>"
      ],
      "text/plain": [
       "   AMT_INCOME_TOTAL  DAYS_EMPLOYED  DAYS_BIRTH  Years_EMPLOYED  Years_BIRTH\n",
       "0          202500.0          637.0        9461        1.745205    25.920548\n",
       "1          270000.0         1188.0       16765        3.254795    45.931507\n",
       "2           67500.0          225.0       19046        0.616438    52.180822\n",
       "3          135000.0         3039.0       19005        8.326027    52.068493\n",
       "4          121500.0         3038.0       19932        8.323288    54.608219"
      ]
     },
     "execution_count": 3,
     "metadata": {},
     "output_type": "execute_result"
    }
   ],
   "source": [
    "app_train['DAYS_EMPLOYED'] = abs(app_train['DAYS_EMPLOYED'])\n",
    "sub_data = app_train[[\"AMT_INCOME_TOTAL\", \"DAYS_EMPLOYED\", \"DAYS_BIRTH\"]] # subset\n",
    "# day to year\n",
    "sub_data[\"Years_EMPLOYED\"] = sub_data['DAYS_EMPLOYED'] / 365\n",
    "sub_data['Years_BIRTH'] = sub_data['DAYS_BIRTH'] / 365\n",
    "sub_data.head()"
   ]
  },
  {
   "cell_type": "markdown",
   "metadata": {},
   "source": [
    "#### 等寬劃分 & 等頻劃分"
   ]
  },
  {
   "cell_type": "code",
   "execution_count": 4,
   "metadata": {},
   "outputs": [
    {
     "name": "stdout",
     "output_type": "stream",
     "text": [
      "(-0.0491, 9.815]    199580\n",
      "(9.815, 19.63]       39314\n",
      "(19.63, 29.444]       9950\n",
      "(29.444, 39.259]      2982\n",
      "(39.259, 49.074]       311\n",
      "Name: equal_width_Years_EMPLOYED, dtype: int64\n",
      "(-0.001, 1.69]      50511\n",
      "(1.69, 3.425]       50409\n",
      "(3.425, 5.918]      50390\n",
      "(5.918, 10.071]     50399\n",
      "(10.071, 49.074]    50428\n",
      "Name: equal_width_Years_EMPLOYED, dtype: int64\n"
     ]
    }
   ],
   "source": [
    "sub_data[\"equal_width_Years_EMPLOYED\"] = pd.cut(sub_data[\"Years_EMPLOYED\"], 5)\n",
    "print(sub_data[\"equal_width_Years_EMPLOYED\"].value_counts().sort_index())\n",
    "\n",
    "sub_data[\"equal_width_Years_EMPLOYED\"] = pd.qcut(sub_data[\"Years_EMPLOYED\"], 5)\n",
    "print(sub_data[\"equal_width_Years_EMPLOYED\"].value_counts().sort_index())"
   ]
  },
  {
   "cell_type": "code",
   "execution_count": 5,
   "metadata": {},
   "outputs": [
    {
     "name": "stdout",
     "output_type": "stream",
     "text": [
      "(-91324.35, 23420520.0]      307510\n",
      "(23420520.0, 46815390.0]          0\n",
      "(46815390.0, 70210260.0]          0\n",
      "(70210260.0, 93605130.0]          0\n",
      "(93605130.0, 117000000.0]         1\n",
      "Name: equal_width_AMT_INCOME_TOTAL, dtype: int64\n",
      "(25649.999, 99000.0]       63671\n",
      "(99000.0, 135000.0]        85756\n",
      "(135000.0, 162000.0]       35453\n",
      "(162000.0, 225000.0]       75513\n",
      "(225000.0, 117000000.0]    47118\n",
      "Name: equal_width_AMT_INCOME_TOTAL, dtype: int64\n"
     ]
    }
   ],
   "source": [
    "sub_data[\"equal_width_AMT_INCOME_TOTAL\"] = pd.cut(sub_data[\"AMT_INCOME_TOTAL\"], 5)\n",
    "print(sub_data[\"equal_width_AMT_INCOME_TOTAL\"].value_counts().sort_index())\n",
    "\n",
    "sub_data[\"equal_width_AMT_INCOME_TOTAL\"] = pd.qcut(sub_data[\"AMT_INCOME_TOTAL\"], 5)\n",
    "print(sub_data[\"equal_width_AMT_INCOME_TOTAL\"].value_counts().sort_index())"
   ]
  },
  {
   "cell_type": "markdown",
   "metadata": {},
   "source": [
    "因為有outlier，等寬的結果很差"
   ]
  },
  {
   "cell_type": "code",
   "execution_count": 6,
   "metadata": {},
   "outputs": [
    {
     "name": "stdout",
     "output_type": "stream",
     "text": [
      "(20.469, 30.238]    46806\n",
      "(30.238, 39.959]    80188\n",
      "(39.959, 49.679]    74661\n",
      "(49.679, 59.4]      66194\n",
      "(59.4, 69.121]      39662\n",
      "Name: equal_width_Years_BIRTH, dtype: int64\n",
      "(20.517, 32.038]    61512\n",
      "(32.038, 39.496]    61504\n",
      "(39.496, 47.178]    61509\n",
      "(47.178, 56.093]    61491\n",
      "(56.093, 69.121]    61495\n",
      "Name: equal_width_Years_BIRTH, dtype: int64\n"
     ]
    }
   ],
   "source": [
    "sub_data[\"equal_width_Years_BIRTH\"] = pd.cut(sub_data[\"Years_BIRTH\"], 5)\n",
    "print(sub_data[\"equal_width_Years_BIRTH\"].value_counts().sort_index())\n",
    "\n",
    "sub_data[\"equal_width_Years_BIRTH\"] = pd.qcut(sub_data[\"Years_BIRTH\"], 5)\n",
    "print(sub_data[\"equal_width_Years_BIRTH\"].value_counts().sort_index())"
   ]
  },
  {
   "cell_type": "markdown",
   "metadata": {},
   "source": [
    "#### 根據上列等寬、等頻的劃分結果，進行自定義的 bin"
   ]
  },
  {
   "cell_type": "code",
   "execution_count": 7,
   "metadata": {},
   "outputs": [
    {
     "name": "stdout",
     "output_type": "stream",
     "text": [
      "(-0.0001, 2.0]    59827\n",
      "(2.0, 4.0]        54728\n",
      "(4.0, 6.0]        38016\n",
      "(6.0, 10.0]       48612\n",
      "(10.0, 50.0]      50954\n",
      "Name: Years_EMPLOYED_grp, dtype: int64\n"
     ]
    }
   ],
   "source": [
    "sub_data[\"Years_EMPLOYED_grp\"] = pd.cut(sub_data[\"Years_EMPLOYED\"], bins = [-0.0001, 2, 4, 6, 10, 50])\n",
    "print(sub_data[\"Years_EMPLOYED_grp\"].value_counts().sort_index())"
   ]
  },
  {
   "cell_type": "code",
   "execution_count": 8,
   "metadata": {},
   "outputs": [
    {
     "name": "stdout",
     "output_type": "stream",
     "text": [
      "(-0.0001, 100000.0]        63698\n",
      "(100000.0, 150000.0]       91591\n",
      "(150000.0, 200000.0]       64307\n",
      "(200000.0, 225000.0]       40797\n",
      "(225000.0, 120000000.0]    47118\n",
      "Name: AMT_INCOME_TOTAL_grp, dtype: int64\n"
     ]
    }
   ],
   "source": [
    "sub_data[\"AMT_INCOME_TOTAL_grp\"] = pd.cut(sub_data[\"AMT_INCOME_TOTAL\"], bins = [-0.0001, 100000, 150000, 200000, 225000, 120000000])\n",
    "print(sub_data[\"AMT_INCOME_TOTAL_grp\"].value_counts().sort_index())"
   ]
  },
  {
   "cell_type": "code",
   "execution_count": 9,
   "metadata": {},
   "outputs": [
    {
     "name": "stdout",
     "output_type": "stream",
     "text": [
      "(20, 30]     45021\n",
      "(30, 40]     82308\n",
      "(40, 50]     76541\n",
      "(50, 60]     68062\n",
      "(60, 100]    35579\n",
      "Name: Years_BIRTH_grp, dtype: int64\n"
     ]
    }
   ],
   "source": [
    "sub_data[\"Years_BIRTH_grp\"] = pd.cut(sub_data[\"Years_BIRTH\"], bins = [20, 30, 40, 50, 60, 100])\n",
    "print(sub_data[\"Years_BIRTH_grp\"].value_counts().sort_index())"
   ]
  },
  {
   "cell_type": "code",
   "execution_count": null,
   "metadata": {
    "collapsed": true
   },
   "outputs": [],
   "source": []
  }
 ],
 "metadata": {
  "kernelspec": {
   "display_name": "Python 3",
   "language": "python",
   "name": "python3"
  },
  "language_info": {
   "codemirror_mode": {
    "name": "ipython",
    "version": 3
   },
   "file_extension": ".py",
   "mimetype": "text/x-python",
   "name": "python",
   "nbconvert_exporter": "python",
   "pygments_lexer": "ipython3",
   "version": "3.6.1"
  }
 },
 "nbformat": 4,
 "nbformat_minor": 2
}
