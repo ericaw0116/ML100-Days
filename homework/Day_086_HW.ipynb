{
 "cells": [
  {
   "cell_type": "markdown",
   "metadata": {},
   "source": [
    "## Work\n",
    "1. 試比較 save_best_only 與否的差異\n",
    "2. 請僅存入將 save_weights_only 設定為 True, 並嘗試 reset ipynb 並將模型與權重重新建回並預測 x_test"
   ]
  },
  {
   "cell_type": "code",
   "execution_count": 1,
   "metadata": {},
   "outputs": [
    {
     "name": "stderr",
     "output_type": "stream",
     "text": [
      "Using TensorFlow backend.\n"
     ]
    }
   ],
   "source": [
    "import os\n",
    "import keras\n",
    "\n",
    "# Disable GPU\n",
    "os.environ[\"CUDA_VISIBLE_DEVICES\"] = \"\""
   ]
  },
  {
   "cell_type": "code",
   "execution_count": 2,
   "metadata": {},
   "outputs": [],
   "source": [
    "train, test = keras.datasets.cifar10.load_data()"
   ]
  },
  {
   "cell_type": "code",
   "execution_count": 3,
   "metadata": {},
   "outputs": [],
   "source": [
    "## 資料前處理\n",
    "def preproc_x(x, flatten=True):\n",
    "    x = x / 255.\n",
    "    if flatten:\n",
    "        x = x.reshape((len(x), -1))\n",
    "    return x\n",
    "\n",
    "def preproc_y(y, num_classes=10):\n",
    "    if y.shape[-1] == 1:\n",
    "        y = keras.utils.to_categorical(y, num_classes)\n",
    "    return y    "
   ]
  },
  {
   "cell_type": "code",
   "execution_count": 4,
   "metadata": {},
   "outputs": [],
   "source": [
    "x_train, y_train = train\n",
    "x_test, y_test = test\n",
    "\n",
    "# Preproc the inputs\n",
    "x_train = preproc_x(x_train)\n",
    "x_test = preproc_x(x_test)\n",
    "\n",
    "# Preprc the outputs\n",
    "y_train = preproc_y(y_train)\n",
    "y_test = preproc_y(y_test)"
   ]
  },
  {
   "cell_type": "code",
   "execution_count": 5,
   "metadata": {},
   "outputs": [],
   "source": [
    "from keras.layers import BatchNormalization\n",
    "def build_mlp(input_shape, output_units=10, num_neurons=[512, 256, 128]):\n",
    "    input_layer = keras.layers.Input(input_shape)\n",
    "    \n",
    "    for i, n_units in enumerate(num_neurons):\n",
    "        if i == 0:\n",
    "            x = keras.layers.Dense(units=n_units, \n",
    "                                   activation=\"relu\", \n",
    "                                   name=\"hidden_layer\"+str(i+1))(input_layer)\n",
    "            x = BatchNormalization()(x)\n",
    "        else:\n",
    "            x = keras.layers.Dense(units=n_units, \n",
    "                                   activation=\"relu\", \n",
    "                                   name=\"hidden_layer\"+str(i+1))(x)\n",
    "            x = BatchNormalization()(x)\n",
    "    \n",
    "    out = keras.layers.Dense(units=output_units, activation=\"softmax\", name=\"output\")(x)\n",
    "    \n",
    "    model = keras.models.Model(inputs=[input_layer], outputs=[out])\n",
    "    return model"
   ]
  },
  {
   "cell_type": "code",
   "execution_count": 6,
   "metadata": {},
   "outputs": [],
   "source": [
    "## 超參數設定\n",
    "\"\"\"\n",
    "Set your hyper-parameters\n",
    "\"\"\"\n",
    "LEARNING_RATE = 1e-3\n",
    "EPOCHS = 50\n",
    "BATCH_SIZE = 1024\n",
    "MOMENTUM = 0.95"
   ]
  },
  {
   "cell_type": "code",
   "execution_count": 7,
   "metadata": {},
   "outputs": [],
   "source": [
    "# 載入 Callbacks\n",
    "from keras.callbacks import ModelCheckpoint\n",
    "\"\"\"\n",
    "Set model checkpoint callbacks\n",
    "\"\"\"\n",
    "model_ckpt = ModelCheckpoint(filepath=\"./tmp.h5\", \n",
    "                             monitor=\"val_loss\", \n",
    "                             save_best_only=False)"
   ]
  },
  {
   "cell_type": "code",
   "execution_count": 8,
   "metadata": {
    "scrolled": true
   },
   "outputs": [
    {
     "name": "stdout",
     "output_type": "stream",
     "text": [
      "_________________________________________________________________\n",
      "Layer (type)                 Output Shape              Param #   \n",
      "=================================================================\n",
      "input_1 (InputLayer)         (None, 3072)              0         \n",
      "_________________________________________________________________\n",
      "hidden_layer1 (Dense)        (None, 512)               1573376   \n",
      "_________________________________________________________________\n",
      "batch_normalization_1 (Batch (None, 512)               2048      \n",
      "_________________________________________________________________\n",
      "hidden_layer2 (Dense)        (None, 256)               131328    \n",
      "_________________________________________________________________\n",
      "batch_normalization_2 (Batch (None, 256)               1024      \n",
      "_________________________________________________________________\n",
      "hidden_layer3 (Dense)        (None, 128)               32896     \n",
      "_________________________________________________________________\n",
      "batch_normalization_3 (Batch (None, 128)               512       \n",
      "_________________________________________________________________\n",
      "output (Dense)               (None, 10)                1290      \n",
      "=================================================================\n",
      "Total params: 1,742,474\n",
      "Trainable params: 1,740,682\n",
      "Non-trainable params: 1,792\n",
      "_________________________________________________________________\n",
      "Train on 50000 samples, validate on 10000 samples\n",
      "Epoch 1/50\n",
      "50000/50000 [==============================] - 8s 159us/step - loss: 2.2074 - acc: 0.2714 - val_loss: 2.1924 - val_acc: 0.2985\n",
      "Epoch 2/50\n",
      "50000/50000 [==============================] - 6s 119us/step - loss: 1.7374 - acc: 0.3930 - val_loss: 1.8009 - val_acc: 0.3717\n",
      "Epoch 3/50\n",
      "50000/50000 [==============================] - 6s 120us/step - loss: 1.6138 - acc: 0.4347 - val_loss: 1.7008 - val_acc: 0.4018\n",
      "Epoch 4/50\n",
      "50000/50000 [==============================] - 6s 118us/step - loss: 1.5404 - acc: 0.4617 - val_loss: 1.6360 - val_acc: 0.4278\n",
      "Epoch 5/50\n",
      "50000/50000 [==============================] - 6s 120us/step - loss: 1.4846 - acc: 0.4831 - val_loss: 1.5955 - val_acc: 0.4411\n",
      "Epoch 6/50\n",
      "50000/50000 [==============================] - 6s 118us/step - loss: 1.4367 - acc: 0.4984 - val_loss: 1.5689 - val_acc: 0.4480\n",
      "Epoch 7/50\n",
      "50000/50000 [==============================] - 6s 120us/step - loss: 1.3987 - acc: 0.5122 - val_loss: 1.5383 - val_acc: 0.4560\n",
      "Epoch 8/50\n",
      "50000/50000 [==============================] - 6s 121us/step - loss: 1.3612 - acc: 0.5259 - val_loss: 1.5250 - val_acc: 0.4625\n",
      "Epoch 9/50\n",
      "50000/50000 [==============================] - 6s 120us/step - loss: 1.3269 - acc: 0.5388 - val_loss: 1.5193 - val_acc: 0.4671\n",
      "Epoch 10/50\n",
      "50000/50000 [==============================] - 6s 112us/step - loss: 1.2980 - acc: 0.5504 - val_loss: 1.4929 - val_acc: 0.4732\n",
      "Epoch 11/50\n",
      "50000/50000 [==============================] - 6s 116us/step - loss: 1.2700 - acc: 0.5608 - val_loss: 1.4956 - val_acc: 0.4712\n",
      "Epoch 12/50\n",
      "50000/50000 [==============================] - 6s 112us/step - loss: 1.2419 - acc: 0.5714 - val_loss: 1.4884 - val_acc: 0.4703\n",
      "Epoch 13/50\n",
      "50000/50000 [==============================] - 6s 113us/step - loss: 1.2169 - acc: 0.5801 - val_loss: 1.4771 - val_acc: 0.4779\n",
      "Epoch 14/50\n",
      "50000/50000 [==============================] - 6s 116us/step - loss: 1.1930 - acc: 0.5890 - val_loss: 1.4673 - val_acc: 0.4827\n",
      "Epoch 15/50\n",
      "50000/50000 [==============================] - 6s 113us/step - loss: 1.1659 - acc: 0.5982 - val_loss: 1.4527 - val_acc: 0.4869\n",
      "Epoch 16/50\n",
      "50000/50000 [==============================] - 6s 114us/step - loss: 1.1461 - acc: 0.6051 - val_loss: 1.4621 - val_acc: 0.4862\n",
      "Epoch 17/50\n",
      "50000/50000 [==============================] - 6s 117us/step - loss: 1.1217 - acc: 0.6157 - val_loss: 1.4630 - val_acc: 0.4888\n",
      "Epoch 18/50\n",
      "50000/50000 [==============================] - 6s 114us/step - loss: 1.0997 - acc: 0.6237 - val_loss: 1.4520 - val_acc: 0.4941\n",
      "Epoch 19/50\n",
      "50000/50000 [==============================] - 6s 115us/step - loss: 1.0783 - acc: 0.6295 - val_loss: 1.4584 - val_acc: 0.4888\n",
      "Epoch 20/50\n",
      "50000/50000 [==============================] - 6s 117us/step - loss: 1.0559 - acc: 0.6398 - val_loss: 1.4741 - val_acc: 0.4836\n",
      "Epoch 21/50\n",
      "50000/50000 [==============================] - 6s 114us/step - loss: 1.0342 - acc: 0.6477 - val_loss: 1.4710 - val_acc: 0.4807\n",
      "Epoch 22/50\n",
      "50000/50000 [==============================] - 6s 115us/step - loss: 1.0137 - acc: 0.6551 - val_loss: 1.4546 - val_acc: 0.4907\n",
      "Epoch 23/50\n",
      "50000/50000 [==============================] - 6s 117us/step - loss: 0.9923 - acc: 0.6636 - val_loss: 1.4563 - val_acc: 0.4930\n",
      "Epoch 24/50\n",
      "50000/50000 [==============================] - 6s 117us/step - loss: 0.9718 - acc: 0.6712 - val_loss: 1.4646 - val_acc: 0.4919\n",
      "Epoch 25/50\n",
      "50000/50000 [==============================] - 6s 117us/step - loss: 0.9519 - acc: 0.6799 - val_loss: 1.4694 - val_acc: 0.4915\n",
      "Epoch 26/50\n",
      "50000/50000 [==============================] - 6s 118us/step - loss: 0.9317 - acc: 0.6877 - val_loss: 1.4636 - val_acc: 0.5000\n",
      "Epoch 27/50\n",
      "50000/50000 [==============================] - 6s 125us/step - loss: 0.9128 - acc: 0.6961 - val_loss: 1.4757 - val_acc: 0.4926\n",
      "Epoch 28/50\n",
      "50000/50000 [==============================] - 6s 116us/step - loss: 0.8919 - acc: 0.7033 - val_loss: 1.4778 - val_acc: 0.4942\n",
      "Epoch 29/50\n",
      "50000/50000 [==============================] - 6s 119us/step - loss: 0.8729 - acc: 0.7114 - val_loss: 1.4984 - val_acc: 0.4891\n",
      "Epoch 30/50\n",
      "50000/50000 [==============================] - 6s 119us/step - loss: 0.8523 - acc: 0.7199 - val_loss: 1.4763 - val_acc: 0.4969\n",
      "Epoch 31/50\n",
      "50000/50000 [==============================] - 6s 112us/step - loss: 0.8337 - acc: 0.7266 - val_loss: 1.4959 - val_acc: 0.4946\n",
      "Epoch 32/50\n",
      "50000/50000 [==============================] - 6s 116us/step - loss: 0.8134 - acc: 0.7337 - val_loss: 1.4984 - val_acc: 0.4908\n",
      "Epoch 33/50\n",
      "50000/50000 [==============================] - 6s 113us/step - loss: 0.7928 - acc: 0.7433 - val_loss: 1.5094 - val_acc: 0.4994\n",
      "Epoch 34/50\n",
      "50000/50000 [==============================] - 6s 116us/step - loss: 0.7752 - acc: 0.7522 - val_loss: 1.5133 - val_acc: 0.4969\n",
      "Epoch 35/50\n",
      "50000/50000 [==============================] - 6s 120us/step - loss: 0.7586 - acc: 0.7555 - val_loss: 1.5198 - val_acc: 0.4961\n",
      "Epoch 36/50\n",
      "50000/50000 [==============================] - 6s 117us/step - loss: 0.7388 - acc: 0.7647 - val_loss: 1.5299 - val_acc: 0.4911\n",
      "Epoch 37/50\n",
      "50000/50000 [==============================] - 6s 116us/step - loss: 0.7204 - acc: 0.7725 - val_loss: 1.5278 - val_acc: 0.4913\n",
      "Epoch 38/50\n",
      "50000/50000 [==============================] - 6s 118us/step - loss: 0.7016 - acc: 0.7797 - val_loss: 1.5608 - val_acc: 0.4887\n",
      "Epoch 39/50\n",
      "50000/50000 [==============================] - 6s 115us/step - loss: 0.6821 - acc: 0.7875 - val_loss: 1.5667 - val_acc: 0.4915\n",
      "Epoch 40/50\n",
      "50000/50000 [==============================] - 6s 116us/step - loss: 0.6648 - acc: 0.7950 - val_loss: 1.5686 - val_acc: 0.4924\n",
      "Epoch 41/50\n",
      "50000/50000 [==============================] - 6s 116us/step - loss: 0.6443 - acc: 0.8034 - val_loss: 1.5786 - val_acc: 0.4871\n",
      "Epoch 42/50\n",
      "50000/50000 [==============================] - 6s 117us/step - loss: 0.6273 - acc: 0.8079 - val_loss: 1.5980 - val_acc: 0.4904\n",
      "Epoch 43/50\n",
      "50000/50000 [==============================] - 6s 112us/step - loss: 0.6079 - acc: 0.8177 - val_loss: 1.6077 - val_acc: 0.4834\n",
      "Epoch 44/50\n",
      "50000/50000 [==============================] - 6s 115us/step - loss: 0.5927 - acc: 0.8238 - val_loss: 1.6036 - val_acc: 0.4913\n",
      "Epoch 45/50\n",
      "50000/50000 [==============================] - 6s 116us/step - loss: 0.5758 - acc: 0.8298 - val_loss: 1.6289 - val_acc: 0.4854\n",
      "Epoch 46/50\n",
      "50000/50000 [==============================] - 6s 114us/step - loss: 0.5603 - acc: 0.8360 - val_loss: 1.6403 - val_acc: 0.4900\n",
      "Epoch 47/50\n",
      "50000/50000 [==============================] - 6s 113us/step - loss: 0.5415 - acc: 0.8446 - val_loss: 1.6357 - val_acc: 0.4918\n",
      "Epoch 48/50\n",
      "50000/50000 [==============================] - 6s 116us/step - loss: 0.5272 - acc: 0.8493 - val_loss: 1.6637 - val_acc: 0.4868\n",
      "Epoch 49/50\n"
     ]
    },
    {
     "name": "stdout",
     "output_type": "stream",
     "text": [
      "50000/50000 [==============================] - 6s 119us/step - loss: 0.5092 - acc: 0.8571 - val_loss: 1.6752 - val_acc: 0.4898\n",
      "Epoch 50/50\n",
      "50000/50000 [==============================] - 6s 115us/step - loss: 0.4920 - acc: 0.8627 - val_loss: 1.6907 - val_acc: 0.4883\n",
      "10000/10000 [==============================] - 3s 257us/step\n"
     ]
    }
   ],
   "source": [
    "\"\"\"\n",
    "Write your training loop and show the results\n",
    "\"\"\"\n",
    "model = build_mlp(input_shape=x_train.shape[1:])\n",
    "model.summary()\n",
    "optimizer = keras.optimizers.SGD(lr=LEARNING_RATE, nesterov=True, momentum=MOMENTUM)\n",
    "model.compile(loss=\"categorical_crossentropy\", metrics=[\"accuracy\"], optimizer=optimizer)\n",
    "\n",
    "model.fit(x_train, y_train, \n",
    "          epochs=EPOCHS, \n",
    "          batch_size=BATCH_SIZE, \n",
    "          validation_data=(x_test, y_test), \n",
    "          shuffle=True,\n",
    "          callbacks=[model_ckpt]\n",
    "         )\n",
    "\n",
    "# Collect results\n",
    "train_loss = model.history.history[\"loss\"]\n",
    "valid_loss = model.history.history[\"val_loss\"]\n",
    "train_acc = model.history.history[\"acc\"]\n",
    "valid_acc = model.history.history[\"val_acc\"]\n",
    "\n",
    "pred_final = model.predict(x_test)\n",
    "# Load back\n",
    "model = keras.models.load_model(\"./tmp.h5\")\n",
    "loss_loadback, acc_loadback = model.evaluate(x_test, y_test)\n",
    "pred_loadback = model.predict(x_test)"
   ]
  },
  {
   "cell_type": "code",
   "execution_count": 9,
   "metadata": {},
   "outputs": [
    {
     "data": {
      "image/png": "[encoded data removed]",
      "text/plain": [
       "<matplotlib.figure.Figure at 0x28197c50>"
      ]
     },
     "metadata": {
      "needs_background": "light"
     },
     "output_type": "display_data"
    },
    {
     "data": {
      "image/png": "[encoded data removed]",
      "text/plain": [
       "<matplotlib.figure.Figure at 0x2b76dac8>"
      ]
     },
     "metadata": {
      "needs_background": "light"
     },
     "output_type": "display_data"
    }
   ],
   "source": [
    "import matplotlib.pyplot as plt\n",
    "%matplotlib inline\n",
    "\n",
    "plt.plot(range(len(train_loss)), train_loss, label=\"train loss\")\n",
    "plt.plot(range(len(valid_loss)), valid_loss, label=\"valid loss\")\n",
    "plt.hlines(y=loss_loadback, xmin=0, xmax=len(train_loss), colors='r', linestyles='--')\n",
    "plt.legend()\n",
    "plt.title(\"Loss\")\n",
    "plt.show()\n",
    "\n",
    "plt.plot(range(len(train_acc)), train_acc, label=\"train accuracy\")\n",
    "plt.plot(range(len(valid_acc)), valid_acc, label=\"valid accuracy\")\n",
    "plt.hlines(y=acc_loadback, xmin=0, xmax=len(train_loss), colors='r', linestyles='--')\n",
    "plt.legend()\n",
    "plt.title(\"Accuracy\")\n",
    "plt.show()"
   ]
  },
  {
   "cell_type": "code",
   "execution_count": 10,
   "metadata": {},
   "outputs": [
    {
     "name": "stdout",
     "output_type": "stream",
     "text": [
      "Accuracy of final weights: 0.488\n",
      "Accuracy of best weights: 0.488\n"
     ]
    }
   ],
   "source": [
    "from sklearn.metrics import accuracy_score\n",
    "\n",
    "final_model_acc = accuracy_score(y_true=y_test.argmax(axis=-1), y_pred=pred_final.argmax(axis=-1))\n",
    "loadback_acc = accuracy_score(y_true=y_test.argmax(axis=-1), y_pred=pred_loadback.argmax(axis=-1))\n",
    "\n",
    "print(\"Accuracy of final weights: %.3f\" % final_model_acc)\n",
    "print(\"Accuracy of best weights: %.3f\" % loadback_acc)"
   ]
  },
  {
   "cell_type": "code",
   "execution_count": null,
   "metadata": {},
   "outputs": [],
   "source": []
  }
 ],
 "metadata": {
  "anaconda-cloud": {},
  "kernelspec": {
   "display_name": "Python 3",
   "language": "python",
   "name": "python3"
  },
  "language_info": {
   "codemirror_mode": {
    "name": "ipython",
    "version": 3
   },
   "file_extension": ".py",
   "mimetype": "text/x-python",
   "name": "python",
   "nbconvert_exporter": "python",
   "pygments_lexer": "ipython3",
   "version": "3.6.8"
  }
 },
 "nbformat": 4,
 "nbformat_minor": 2
}
