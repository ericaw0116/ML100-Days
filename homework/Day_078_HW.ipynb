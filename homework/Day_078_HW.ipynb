{
 "cells": [
  {
   "cell_type": "markdown",
   "metadata": {},
   "source": [
    "## Work\n",
    "1. 請嘗試將 preproc_x 替換成以每筆資料的 min/max 進行標準化至 -1 ~ 1 間，再進行訓練\n",
    "2. 請嘗試將 mlp 疊更深 (e.g 5~10 層)，進行訓練後觀察 learning curve 的走勢\n",
    "3. (optional) 請改用 GPU 進行訓練 (如果你有 GPU 的話)，比較使用 CPU 與 GPU 的訓練速度"
   ]
  },
  {
   "cell_type": "code",
   "execution_count": 1,
   "metadata": {},
   "outputs": [],
   "source": [
    "## 確認硬體資源\n",
    "\"\"\"\n",
    "Your code here\n",
    "\"\"\"\n",
    "#!nvidia-smi    只可以在Mac和Linux使用"
   ]
  },
  {
   "cell_type": "code",
   "execution_count": 1,
   "metadata": {},
   "outputs": [
    {
     "name": "stderr",
     "output_type": "stream",
     "text": [
      "Using TensorFlow backend.\n"
     ]
    }
   ],
   "source": [
    "import os\n",
    "import keras\n",
    "\n",
    "# Try to enable GPU (optional)\n",
    "os.environ[\"CUDA_VISIBLE_DEVICES\"] = \"\""
   ]
  },
  {
   "cell_type": "code",
   "execution_count": 2,
   "metadata": {},
   "outputs": [],
   "source": [
    "train, test = keras.datasets.cifar10.load_data()"
   ]
  },
  {
   "cell_type": "code",
   "execution_count": 3,
   "metadata": {},
   "outputs": [],
   "source": [
    "## 資料前處理\n",
    "\"\"\"\n",
    "Your code here\n",
    "\"\"\"\n",
    "def preproc_x(x, flatten=True):\n",
    "    x = 2*(((x - x.min()) / (x.max() - x.min()))-0.5)\n",
    "    if flatten:\n",
    "        x = x.reshape((len(x), -1))\n",
    "    return x\n",
    "\n",
    "def preproc_y(y, num_classes=10):\n",
    "    if y.shape[-1] == 1:\n",
    "        y = keras.utils.to_categorical(y, num_classes)\n",
    "    return y    "
   ]
  },
  {
   "cell_type": "code",
   "execution_count": 4,
   "metadata": {},
   "outputs": [],
   "source": [
    "x_train, y_train = train\n",
    "x_test, y_test = test\n",
    "\n",
    "# Preproc the inputs\n",
    "x_train = preproc_x(x_train)\n",
    "x_test = preproc_x(x_test)\n",
    "\n",
    "# Preprc the outputs\n",
    "y_train = preproc_y(y_train)\n",
    "y_test = preproc_y(y_test)"
   ]
  },
  {
   "cell_type": "code",
   "execution_count": 5,
   "metadata": {},
   "outputs": [],
   "source": [
    "\"\"\"\n",
    "Your code here\n",
    "\"\"\"\n",
    "def build_mlp(input_shape, output_units=10, num_neurons=[512, 256, 128, 128, 128]):\n",
    "    input_layer = keras.layers.Input(input_shape)\n",
    "    \n",
    "    for i, n_units in enumerate(num_neurons):\n",
    "        if i == 0:\n",
    "            x = keras.layers.Dense(units=n_units, activation=\"relu\", name=\"hidden_layer\"+str(i+1))(input_layer)\n",
    "        else:\n",
    "            x = keras.layers.Dense(units=n_units, activation=\"relu\", name=\"hidden_layer\"+str(i+1))(x)\n",
    "    \n",
    "    out = keras.layers.Dense(units=output_units, activation=\"softmax\", name=\"output\")(x)\n",
    "    \n",
    "    model = keras.models.Model(inputs=[input_layer], outputs=[out])\n",
    "    return model"
   ]
  },
  {
   "cell_type": "code",
   "execution_count": 6,
   "metadata": {},
   "outputs": [
    {
     "name": "stdout",
     "output_type": "stream",
     "text": [
      "_________________________________________________________________\n",
      "Layer (type)                 Output Shape              Param #   \n",
      "=================================================================\n",
      "input_1 (InputLayer)         (None, 3072)              0         \n",
      "_________________________________________________________________\n",
      "hidden_layer1 (Dense)        (None, 512)               1573376   \n",
      "_________________________________________________________________\n",
      "hidden_layer2 (Dense)        (None, 256)               131328    \n",
      "_________________________________________________________________\n",
      "hidden_layer3 (Dense)        (None, 128)               32896     \n",
      "_________________________________________________________________\n",
      "hidden_layer4 (Dense)        (None, 128)               16512     \n",
      "_________________________________________________________________\n",
      "hidden_layer5 (Dense)        (None, 128)               16512     \n",
      "_________________________________________________________________\n",
      "output (Dense)               (None, 10)                1290      \n",
      "=================================================================\n",
      "Total params: 1,771,914\n",
      "Trainable params: 1,771,914\n",
      "Non-trainable params: 0\n",
      "_________________________________________________________________\n"
     ]
    }
   ],
   "source": [
    "model = build_mlp(input_shape=x_train.shape[1:])\n",
    "model.summary()"
   ]
  },
  {
   "cell_type": "code",
   "execution_count": 7,
   "metadata": {},
   "outputs": [],
   "source": [
    "## 超參數設定\n",
    "LEARNING_RATE = 0.001\n",
    "EPOCHS = 100\n",
    "BATCH_SIZE = 256"
   ]
  },
  {
   "cell_type": "code",
   "execution_count": 8,
   "metadata": {},
   "outputs": [],
   "source": [
    "optimizer = keras.optimizers.Adam(lr=LEARNING_RATE)\n",
    "model.compile(loss=\"categorical_crossentropy\", metrics=[\"accuracy\"], optimizer=optimizer)"
   ]
  },
  {
   "cell_type": "code",
   "execution_count": 9,
   "metadata": {},
   "outputs": [
    {
     "name": "stdout",
     "output_type": "stream",
     "text": [
      "Train on 50000 samples, validate on 10000 samples\n",
      "Epoch 1/100\n",
      "50000/50000 [==============================] - 6s 120us/step - loss: 1.6880 - acc: 0.3972 - val_loss: 1.5296 - val_acc: 0.4594\n",
      "Epoch 2/100\n",
      "50000/50000 [==============================] - 5s 108us/step - loss: 1.4636 - acc: 0.4818 - val_loss: 1.4830 - val_acc: 0.4727\n",
      "Epoch 3/100\n",
      "50000/50000 [==============================] - 5s 105us/step - loss: 1.3546 - acc: 0.5239 - val_loss: 1.4004 - val_acc: 0.5088\n",
      "Epoch 4/100\n",
      "50000/50000 [==============================] - 5s 105us/step - loss: 1.2627 - acc: 0.5567 - val_loss: 1.3847 - val_acc: 0.5163\n",
      "Epoch 5/100\n",
      "50000/50000 [==============================] - 5s 108us/step - loss: 1.1803 - acc: 0.5809 - val_loss: 1.3866 - val_acc: 0.5134\n",
      "Epoch 6/100\n",
      "50000/50000 [==============================] - 5s 109us/step - loss: 1.1048 - acc: 0.6088 - val_loss: 1.3634 - val_acc: 0.5310\n",
      "Epoch 7/100\n",
      "50000/50000 [==============================] - 5s 108us/step - loss: 1.0358 - acc: 0.6336 - val_loss: 1.3877 - val_acc: 0.5320\n",
      "Epoch 8/100\n",
      "50000/50000 [==============================] - 5s 109us/step - loss: 0.9673 - acc: 0.6585 - val_loss: 1.4050 - val_acc: 0.5230\n",
      "Epoch 9/100\n",
      "50000/50000 [==============================] - 5s 109us/step - loss: 0.8932 - acc: 0.6827 - val_loss: 1.4600 - val_acc: 0.5330\n",
      "Epoch 10/100\n",
      "50000/50000 [==============================] - 5s 108us/step - loss: 0.8308 - acc: 0.7049 - val_loss: 1.4456 - val_acc: 0.5373\n",
      "Epoch 11/100\n",
      "50000/50000 [==============================] - 5s 109us/step - loss: 0.7604 - acc: 0.7289 - val_loss: 1.4798 - val_acc: 0.5343\n",
      "Epoch 12/100\n",
      "50000/50000 [==============================] - 5s 109us/step - loss: 0.7079 - acc: 0.7485 - val_loss: 1.5727 - val_acc: 0.5323\n",
      "Epoch 13/100\n",
      "50000/50000 [==============================] - 5s 110us/step - loss: 0.6385 - acc: 0.7718 - val_loss: 1.6449 - val_acc: 0.5235\n",
      "Epoch 14/100\n",
      "50000/50000 [==============================] - 5s 109us/step - loss: 0.5948 - acc: 0.7870 - val_loss: 1.7705 - val_acc: 0.5257\n",
      "Epoch 15/100\n",
      "50000/50000 [==============================] - 5s 109us/step - loss: 0.5442 - acc: 0.8057 - val_loss: 1.8115 - val_acc: 0.5307\n",
      "Epoch 16/100\n",
      "50000/50000 [==============================] - 5s 110us/step - loss: 0.5025 - acc: 0.8219 - val_loss: 1.9164 - val_acc: 0.5271\n",
      "Epoch 17/100\n",
      "50000/50000 [==============================] - 5s 108us/step - loss: 0.4569 - acc: 0.8371 - val_loss: 1.9865 - val_acc: 0.5269\n",
      "Epoch 18/100\n",
      "50000/50000 [==============================] - 6s 111us/step - loss: 0.4290 - acc: 0.8475 - val_loss: 2.0354 - val_acc: 0.5255\n",
      "Epoch 19/100\n",
      "50000/50000 [==============================] - 6s 114us/step - loss: 0.3943 - acc: 0.8589 - val_loss: 2.1037 - val_acc: 0.5326\n",
      "Epoch 20/100\n",
      "50000/50000 [==============================] - 6s 117us/step - loss: 0.3573 - acc: 0.8724 - val_loss: 2.2691 - val_acc: 0.5329\n",
      "Epoch 21/100\n",
      "50000/50000 [==============================] - 5s 107us/step - loss: 0.3373 - acc: 0.8823 - val_loss: 2.3665 - val_acc: 0.5221\n",
      "Epoch 22/100\n",
      "50000/50000 [==============================] - 5s 107us/step - loss: 0.3093 - acc: 0.8893 - val_loss: 2.5330 - val_acc: 0.5220\n",
      "Epoch 23/100\n",
      "50000/50000 [==============================] - 5s 109us/step - loss: 0.2987 - acc: 0.8944 - val_loss: 2.4076 - val_acc: 0.5268\n",
      "Epoch 24/100\n",
      "50000/50000 [==============================] - 5s 106us/step - loss: 0.2732 - acc: 0.9036 - val_loss: 2.6270 - val_acc: 0.5302\n",
      "Epoch 25/100\n",
      "50000/50000 [==============================] - 5s 106us/step - loss: 0.2640 - acc: 0.9060 - val_loss: 2.5775 - val_acc: 0.5304\n",
      "Epoch 26/100\n",
      "50000/50000 [==============================] - 5s 106us/step - loss: 0.2480 - acc: 0.9137 - val_loss: 2.6500 - val_acc: 0.5195\n",
      "Epoch 27/100\n",
      "50000/50000 [==============================] - 5s 108us/step - loss: 0.2339 - acc: 0.9178 - val_loss: 2.7630 - val_acc: 0.5222\n",
      "Epoch 28/100\n",
      "50000/50000 [==============================] - 5s 107us/step - loss: 0.2206 - acc: 0.9244 - val_loss: 2.7825 - val_acc: 0.5265\n",
      "Epoch 29/100\n",
      "50000/50000 [==============================] - 5s 107us/step - loss: 0.2173 - acc: 0.9241 - val_loss: 2.8216 - val_acc: 0.5255\n",
      "Epoch 30/100\n",
      "50000/50000 [==============================] - 5s 107us/step - loss: 0.2005 - acc: 0.9308 - val_loss: 2.8971 - val_acc: 0.5302\n",
      "Epoch 31/100\n",
      "50000/50000 [==============================] - 5s 107us/step - loss: 0.1910 - acc: 0.9344 - val_loss: 3.0268 - val_acc: 0.5282\n",
      "Epoch 32/100\n",
      "50000/50000 [==============================] - 5s 107us/step - loss: 0.2009 - acc: 0.9311 - val_loss: 3.0288 - val_acc: 0.5325\n",
      "Epoch 33/100\n",
      "50000/50000 [==============================] - 5s 107us/step - loss: 0.1801 - acc: 0.9375 - val_loss: 3.1134 - val_acc: 0.5217\n",
      "Epoch 34/100\n",
      "50000/50000 [==============================] - 5s 106us/step - loss: 0.1980 - acc: 0.9324 - val_loss: 3.1176 - val_acc: 0.5247\n",
      "Epoch 35/100\n",
      "50000/50000 [==============================] - 5s 107us/step - loss: 0.1768 - acc: 0.9394 - val_loss: 2.9843 - val_acc: 0.5239\n",
      "Epoch 36/100\n",
      "50000/50000 [==============================] - 5s 107us/step - loss: 0.1675 - acc: 0.9428 - val_loss: 3.1408 - val_acc: 0.5310\n",
      "Epoch 37/100\n",
      "50000/50000 [==============================] - 5s 108us/step - loss: 0.1571 - acc: 0.9461 - val_loss: 3.2180 - val_acc: 0.5287\n",
      "Epoch 38/100\n",
      "50000/50000 [==============================] - 5s 108us/step - loss: 0.1633 - acc: 0.9451 - val_loss: 3.1909 - val_acc: 0.5271\n",
      "Epoch 39/100\n",
      "50000/50000 [==============================] - 5s 109us/step - loss: 0.1523 - acc: 0.9488 - val_loss: 3.2836 - val_acc: 0.5335\n",
      "Epoch 40/100\n",
      "50000/50000 [==============================] - 5s 109us/step - loss: 0.1531 - acc: 0.9487 - val_loss: 3.2656 - val_acc: 0.5242\n",
      "Epoch 41/100\n",
      "50000/50000 [==============================] - 6s 119us/step - loss: 0.1328 - acc: 0.9545 - val_loss: 3.2427 - val_acc: 0.5296\n",
      "Epoch 42/100\n",
      "50000/50000 [==============================] - 6s 126us/step - loss: 0.1435 - acc: 0.9512 - val_loss: 3.2937 - val_acc: 0.5270\n",
      "Epoch 43/100\n",
      "50000/50000 [==============================] - 6s 121us/step - loss: 0.1417 - acc: 0.9535 - val_loss: 3.3880 - val_acc: 0.5286\n",
      "Epoch 44/100\n",
      "50000/50000 [==============================] - 6s 116us/step - loss: 0.1400 - acc: 0.9526 - val_loss: 3.2809 - val_acc: 0.5284\n",
      "Epoch 45/100\n",
      "50000/50000 [==============================] - 6s 115us/step - loss: 0.1349 - acc: 0.9548 - val_loss: 3.4293 - val_acc: 0.5283\n",
      "Epoch 46/100\n",
      "50000/50000 [==============================] - 6s 113us/step - loss: 0.1298 - acc: 0.9577 - val_loss: 3.4285 - val_acc: 0.5280\n",
      "Epoch 47/100\n",
      "50000/50000 [==============================] - 6s 113us/step - loss: 0.1187 - acc: 0.9608 - val_loss: 3.5366 - val_acc: 0.5219\n",
      "Epoch 48/100\n",
      "50000/50000 [==============================] - 6s 115us/step - loss: 0.1312 - acc: 0.9568 - val_loss: 3.4912 - val_acc: 0.5243\n",
      "Epoch 49/100\n",
      "50000/50000 [==============================] - 6s 118us/step - loss: 0.1218 - acc: 0.9576 - val_loss: 3.5583 - val_acc: 0.5280\n",
      "Epoch 50/100\n",
      "50000/50000 [==============================] - 6s 122us/step - loss: 0.1201 - acc: 0.9599 - val_loss: 3.5008 - val_acc: 0.5312\n",
      "Epoch 51/100\n",
      "50000/50000 [==============================] - 6s 111us/step - loss: 0.1137 - acc: 0.9624 - val_loss: 3.6433 - val_acc: 0.5220\n",
      "Epoch 52/100\n",
      "50000/50000 [==============================] - 6s 110us/step - loss: 0.1108 - acc: 0.9625 - val_loss: 3.6136 - val_acc: 0.5320\n",
      "Epoch 53/100\n",
      "50000/50000 [==============================] - 6s 115us/step - loss: 0.1137 - acc: 0.9619 - val_loss: 3.5358 - val_acc: 0.5282\n",
      "Epoch 54/100\n",
      "50000/50000 [==============================] - 6s 113us/step - loss: 0.1210 - acc: 0.9597 - val_loss: 3.4305 - val_acc: 0.5293\n",
      "Epoch 55/100\n",
      "50000/50000 [==============================] - 6s 112us/step - loss: 0.1178 - acc: 0.9614 - val_loss: 3.5104 - val_acc: 0.5305\n",
      "Epoch 56/100\n",
      "50000/50000 [==============================] - 6s 116us/step - loss: 0.1015 - acc: 0.9667 - val_loss: 3.6560 - val_acc: 0.5298\n",
      "Epoch 57/100\n",
      "50000/50000 [==============================] - 6s 121us/step - loss: 0.1080 - acc: 0.9643 - val_loss: 3.5346 - val_acc: 0.5279\n",
      "Epoch 58/100\n",
      "50000/50000 [==============================] - 6s 120us/step - loss: 0.1075 - acc: 0.9649 - val_loss: 3.6706 - val_acc: 0.5251\n",
      "Epoch 59/100\n"
     ]
    },
    {
     "name": "stdout",
     "output_type": "stream",
     "text": [
      "50000/50000 [==============================] - 5s 107us/step - loss: 0.1183 - acc: 0.9612 - val_loss: 3.6832 - val_acc: 0.5267\n",
      "Epoch 60/100\n",
      "50000/50000 [==============================] - 5s 106us/step - loss: 0.1153 - acc: 0.9617 - val_loss: 3.5485 - val_acc: 0.5355\n",
      "Epoch 61/100\n",
      "50000/50000 [==============================] - 5s 110us/step - loss: 0.0990 - acc: 0.9673 - val_loss: 3.5866 - val_acc: 0.5277\n",
      "Epoch 62/100\n",
      "50000/50000 [==============================] - 5s 109us/step - loss: 0.0891 - acc: 0.9709 - val_loss: 3.6586 - val_acc: 0.5326\n",
      "Epoch 63/100\n",
      "50000/50000 [==============================] - 5s 104us/step - loss: 0.0876 - acc: 0.9709 - val_loss: 3.7364 - val_acc: 0.5221\n",
      "Epoch 64/100\n",
      "50000/50000 [==============================] - 5s 104us/step - loss: 0.0957 - acc: 0.9680 - val_loss: 3.6963 - val_acc: 0.5347\n",
      "Epoch 65/100\n",
      "50000/50000 [==============================] - 5s 104us/step - loss: 0.0865 - acc: 0.9715 - val_loss: 3.7560 - val_acc: 0.5311\n",
      "Epoch 66/100\n",
      "50000/50000 [==============================] - 5s 105us/step - loss: 0.0882 - acc: 0.9707 - val_loss: 3.8611 - val_acc: 0.5245\n",
      "Epoch 67/100\n",
      "50000/50000 [==============================] - 5s 107us/step - loss: 0.1210 - acc: 0.9607 - val_loss: 3.7582 - val_acc: 0.5233\n",
      "Epoch 68/100\n",
      "50000/50000 [==============================] - 5s 105us/step - loss: 0.1000 - acc: 0.9671 - val_loss: 3.6880 - val_acc: 0.5252\n",
      "Epoch 69/100\n",
      "50000/50000 [==============================] - 5s 104us/step - loss: 0.0932 - acc: 0.9695 - val_loss: 3.8089 - val_acc: 0.5359\n",
      "Epoch 70/100\n",
      "50000/50000 [==============================] - 5s 105us/step - loss: 0.0785 - acc: 0.9744 - val_loss: 3.8243 - val_acc: 0.5241\n",
      "Epoch 71/100\n",
      "50000/50000 [==============================] - 5s 105us/step - loss: 0.1056 - acc: 0.9658 - val_loss: 3.7628 - val_acc: 0.5285\n",
      "Epoch 72/100\n",
      "50000/50000 [==============================] - 5s 106us/step - loss: 0.0967 - acc: 0.9691 - val_loss: 3.6533 - val_acc: 0.5269\n",
      "Epoch 73/100\n",
      "50000/50000 [==============================] - 5s 107us/step - loss: 0.0847 - acc: 0.9725 - val_loss: 3.6658 - val_acc: 0.5279\n",
      "Epoch 74/100\n",
      "50000/50000 [==============================] - 5s 105us/step - loss: 0.0974 - acc: 0.9690 - val_loss: 3.7058 - val_acc: 0.5371\n",
      "Epoch 75/100\n",
      "50000/50000 [==============================] - 5s 105us/step - loss: 0.0772 - acc: 0.9750 - val_loss: 3.8259 - val_acc: 0.5270\n",
      "Epoch 76/100\n",
      "50000/50000 [==============================] - 5s 109us/step - loss: 0.0861 - acc: 0.9718 - val_loss: 3.7972 - val_acc: 0.5270\n",
      "Epoch 77/100\n",
      "50000/50000 [==============================] - 5s 107us/step - loss: 0.0812 - acc: 0.9733 - val_loss: 3.9168 - val_acc: 0.5316\n",
      "Epoch 78/100\n",
      "50000/50000 [==============================] - 5s 106us/step - loss: 0.1069 - acc: 0.9650 - val_loss: 3.6724 - val_acc: 0.5326\n",
      "Epoch 79/100\n",
      "50000/50000 [==============================] - 5s 104us/step - loss: 0.0730 - acc: 0.9771 - val_loss: 3.8031 - val_acc: 0.5286\n",
      "Epoch 80/100\n",
      "50000/50000 [==============================] - 5s 108us/step - loss: 0.0839 - acc: 0.9724 - val_loss: 3.8221 - val_acc: 0.5284\n",
      "Epoch 81/100\n",
      "50000/50000 [==============================] - 5s 106us/step - loss: 0.0812 - acc: 0.9739 - val_loss: 3.7628 - val_acc: 0.5299\n",
      "Epoch 82/100\n",
      "50000/50000 [==============================] - 5s 108us/step - loss: 0.0752 - acc: 0.9753 - val_loss: 3.8703 - val_acc: 0.5291\n",
      "Epoch 83/100\n",
      "50000/50000 [==============================] - 5s 109us/step - loss: 0.0897 - acc: 0.9720 - val_loss: 3.8343 - val_acc: 0.5360\n",
      "Epoch 84/100\n",
      "50000/50000 [==============================] - 5s 104us/step - loss: 0.0722 - acc: 0.9763 - val_loss: 3.9343 - val_acc: 0.5297\n",
      "Epoch 85/100\n",
      "50000/50000 [==============================] - 5s 104us/step - loss: 0.0760 - acc: 0.9748 - val_loss: 3.8646 - val_acc: 0.5278\n",
      "Epoch 86/100\n",
      "50000/50000 [==============================] - 5s 103us/step - loss: 0.0759 - acc: 0.9759 - val_loss: 3.9054 - val_acc: 0.5354\n",
      "Epoch 87/100\n",
      "50000/50000 [==============================] - 5s 105us/step - loss: 0.0777 - acc: 0.9756 - val_loss: 3.8148 - val_acc: 0.5313\n",
      "Epoch 88/100\n",
      "50000/50000 [==============================] - 5s 104us/step - loss: 0.0749 - acc: 0.9763 - val_loss: 3.9107 - val_acc: 0.5288\n",
      "Epoch 89/100\n",
      "50000/50000 [==============================] - 5s 104us/step - loss: 0.0810 - acc: 0.9743 - val_loss: 3.8162 - val_acc: 0.5288\n",
      "Epoch 90/100\n",
      "50000/50000 [==============================] - 5s 104us/step - loss: 0.0691 - acc: 0.9773 - val_loss: 3.9913 - val_acc: 0.5351\n",
      "Epoch 91/100\n",
      "50000/50000 [==============================] - 5s 103us/step - loss: 0.0619 - acc: 0.9796 - val_loss: 3.9276 - val_acc: 0.5279\n",
      "Epoch 92/100\n",
      "50000/50000 [==============================] - 5s 103us/step - loss: 0.0874 - acc: 0.9718 - val_loss: 3.9024 - val_acc: 0.5323\n",
      "Epoch 93/100\n",
      "50000/50000 [==============================] - 5s 104us/step - loss: 0.0633 - acc: 0.9800 - val_loss: 4.1140 - val_acc: 0.5277\n",
      "Epoch 94/100\n",
      "50000/50000 [==============================] - 5s 104us/step - loss: 0.0781 - acc: 0.9751 - val_loss: 3.8331 - val_acc: 0.5301\n",
      "Epoch 95/100\n",
      "50000/50000 [==============================] - 5s 104us/step - loss: 0.0667 - acc: 0.9786 - val_loss: 3.9172 - val_acc: 0.5283\n",
      "Epoch 96/100\n",
      "50000/50000 [==============================] - 5s 105us/step - loss: 0.0793 - acc: 0.9749 - val_loss: 4.0117 - val_acc: 0.5228\n",
      "Epoch 97/100\n",
      "50000/50000 [==============================] - 5s 104us/step - loss: 0.0814 - acc: 0.9739 - val_loss: 3.8558 - val_acc: 0.5294\n",
      "Epoch 98/100\n",
      "50000/50000 [==============================] - 5s 103us/step - loss: 0.0787 - acc: 0.9744 - val_loss: 3.8244 - val_acc: 0.5334\n",
      "Epoch 99/100\n",
      "50000/50000 [==============================] - 5s 104us/step - loss: 0.0558 - acc: 0.9819 - val_loss: 3.9902 - val_acc: 0.5299\n",
      "Epoch 100/100\n",
      "50000/50000 [==============================] - 5s 104us/step - loss: 0.0642 - acc: 0.9799 - val_loss: 4.0419 - val_acc: 0.5366\n"
     ]
    },
    {
     "data": {
      "text/plain": [
       "<keras.callbacks.History at 0x1d866a90>"
      ]
     },
     "execution_count": 9,
     "metadata": {},
     "output_type": "execute_result"
    }
   ],
   "source": [
    "model.fit(x_train, y_train, \n",
    "          epochs=EPOCHS, \n",
    "          batch_size=BATCH_SIZE, \n",
    "          validation_data=(x_test, y_test), \n",
    "          shuffle=True)"
   ]
  },
  {
   "cell_type": "code",
   "execution_count": 10,
   "metadata": {},
   "outputs": [
    {
     "data": {
      "image/png": "[encoded data removed]",
      "text/plain": [
       "<matplotlib.figure.Figure at 0x2878de48>"
      ]
     },
     "metadata": {
      "needs_background": "light"
     },
     "output_type": "display_data"
    },
    {
     "data": {
      "image/png": "[encoded data removed]",
      "text/plain": [
       "<matplotlib.figure.Figure at 0x283f3cc0>"
      ]
     },
     "metadata": {
      "needs_background": "light"
     },
     "output_type": "display_data"
    }
   ],
   "source": [
    "import matplotlib.pyplot as plt\n",
    "%matplotlib inline\n",
    "\n",
    "train_loss = model.history.history[\"loss\"]\n",
    "valid_loss = model.history.history[\"val_loss\"]\n",
    "\n",
    "train_acc = model.history.history[\"acc\"]\n",
    "valid_acc = model.history.history[\"val_acc\"]\n",
    "\n",
    "plt.plot(range(len(train_loss)), train_loss, label=\"train loss\")\n",
    "plt.plot(range(len(valid_loss)), valid_loss, label=\"valid loss\")\n",
    "plt.legend()\n",
    "plt.title(\"Loss\")\n",
    "plt.show()\n",
    "\n",
    "plt.plot(range(len(train_acc)), train_acc, label=\"train accuracy\")\n",
    "plt.plot(range(len(valid_acc)), valid_acc, label=\"valid accuracy\")\n",
    "plt.legend()\n",
    "plt.title(\"Accuracy\")\n",
    "plt.show()"
   ]
  },
  {
   "cell_type": "code",
   "execution_count": null,
   "metadata": {},
   "outputs": [],
   "source": []
  }
 ],
 "metadata": {
  "kernelspec": {
   "display_name": "Python 3",
   "language": "python",
   "name": "python3"
  },
  "language_info": {
   "codemirror_mode": {
    "name": "ipython",
    "version": 3
   },
   "file_extension": ".py",
   "mimetype": "text/x-python",
   "name": "python",
   "nbconvert_exporter": "python",
   "pygments_lexer": "ipython3",
   "version": "3.6.8"
  }
 },
 "nbformat": 4,
 "nbformat_minor": 2
}
