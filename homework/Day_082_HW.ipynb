{
 "cells": [
  {
   "cell_type": "markdown",
   "metadata": {},
   "source": [
    "## Work\n",
    "1. 請比較使用不同層數以及不同 Dropout rate 對訓練的效果\n",
    "2. 將 optimizer 改成使用 Adam 並加上適當的 dropout rate 檢視結果"
   ]
  },
  {
   "cell_type": "code",
   "execution_count": 1,
   "metadata": {},
   "outputs": [
    {
     "name": "stderr",
     "output_type": "stream",
     "text": [
      "Using TensorFlow backend.\n"
     ]
    }
   ],
   "source": [
    "import os\n",
    "import keras\n",
    "import itertools\n",
    "from keras.layers import Dropout\n",
    "\n",
    "# Disable GPU\n",
    "os.environ[\"CUDA_VISIBLE_DEVICES\"] = \"\""
   ]
  },
  {
   "cell_type": "code",
   "execution_count": 2,
   "metadata": {},
   "outputs": [],
   "source": [
    "train, test = keras.datasets.cifar10.load_data()"
   ]
  },
  {
   "cell_type": "code",
   "execution_count": 3,
   "metadata": {},
   "outputs": [],
   "source": [
    "## 資料前處理\n",
    "def preproc_x(x, flatten=True):\n",
    "    x = x / 255.\n",
    "    if flatten:\n",
    "        x = x.reshape((len(x), -1))\n",
    "    return x\n",
    "\n",
    "def preproc_y(y, num_classes=10):\n",
    "    if y.shape[-1] == 1:\n",
    "        y = keras.utils.to_categorical(y, num_classes)\n",
    "    return y    "
   ]
  },
  {
   "cell_type": "code",
   "execution_count": 4,
   "metadata": {},
   "outputs": [],
   "source": [
    "x_train, y_train = train\n",
    "x_test, y_test = test\n",
    "\n",
    "# Preproc the inputs\n",
    "x_train = preproc_x(x_train)\n",
    "x_test = preproc_x(x_test)\n",
    "\n",
    "# Preprc the outputs\n",
    "y_train = preproc_y(y_train)\n",
    "y_test = preproc_y(y_test)"
   ]
  },
  {
   "cell_type": "code",
   "execution_count": 5,
   "metadata": {},
   "outputs": [],
   "source": [
    "def build_mlp(input_shape, output_units=10, num_neurons=[512, 256, 128], drp_ratio=0.2):\n",
    "    input_layer = keras.layers.Input(input_shape)\n",
    "    \n",
    "    for i, n_units in enumerate(num_neurons):\n",
    "        if i == 0:\n",
    "            x = keras.layers.Dense(units=n_units, \n",
    "                                   activation=\"relu\", \n",
    "                                   name=\"hidden_layer\"+str(i+1))(input_layer)\n",
    "            x = Dropout(drp_ratio)(x)\n",
    "        else:\n",
    "            x = keras.layers.Dense(units=n_units, \n",
    "                                   activation=\"relu\", \n",
    "                                   name=\"hidden_layer\"+str(i+1))(x)\n",
    "            x = Dropout(drp_ratio)(x)\n",
    "    \n",
    "    out = keras.layers.Dense(units=output_units, activation=\"softmax\", name=\"output\")(x)\n",
    "    \n",
    "    model = keras.models.Model(inputs=[input_layer], outputs=[out])\n",
    "    return model"
   ]
  },
  {
   "cell_type": "code",
   "execution_count": 6,
   "metadata": {},
   "outputs": [],
   "source": [
    "## 超參數設定\n",
    "\"\"\"\n",
    "Set Hyper-parameters here\n",
    "\"\"\"\n",
    "LEARNING_RATE = 1e-4\n",
    "EPOCHS = 50\n",
    "BATCH_SIZE = 256\n",
    "MOMENTUM = 0.95\n",
    "Dropout_EXP = 0.2"
   ]
  },
  {
   "cell_type": "code",
   "execution_count": 7,
   "metadata": {
    "scrolled": true
   },
   "outputs": [
    {
     "name": "stdout",
     "output_type": "stream",
     "text": [
      "_________________________________________________________________\n",
      "Layer (type)                 Output Shape              Param #   \n",
      "=================================================================\n",
      "input_1 (InputLayer)         (None, 3072)              0         \n",
      "_________________________________________________________________\n",
      "hidden_layer1 (Dense)        (None, 512)               1573376   \n",
      "_________________________________________________________________\n",
      "dropout_1 (Dropout)          (None, 512)               0         \n",
      "_________________________________________________________________\n",
      "hidden_layer2 (Dense)        (None, 256)               131328    \n",
      "_________________________________________________________________\n",
      "dropout_2 (Dropout)          (None, 256)               0         \n",
      "_________________________________________________________________\n",
      "hidden_layer3 (Dense)        (None, 128)               32896     \n",
      "_________________________________________________________________\n",
      "dropout_3 (Dropout)          (None, 128)               0         \n",
      "_________________________________________________________________\n",
      "output (Dense)               (None, 10)                1290      \n",
      "=================================================================\n",
      "Total params: 1,738,890\n",
      "Trainable params: 1,738,890\n",
      "Non-trainable params: 0\n",
      "_________________________________________________________________\n",
      "Train on 50000 samples, validate on 10000 samples\n",
      "Epoch 1/50\n",
      "50000/50000 [==============================] - 16s 324us/step - loss: 2.3175 - acc: 0.1229 - val_loss: 2.2178 - val_acc: 0.2102s \n",
      "Epoch 2/50\n",
      "50000/50000 [==============================] - 13s 264us/step - loss: 2.2268 - acc: 0.1709 - val_loss: 2.1487 - val_acc: 0.2518\n",
      "Epoch 3/50\n",
      "50000/50000 [==============================] - 14s 275us/step - loss: 2.1760 - acc: 0.1980 - val_loss: 2.0962 - val_acc: 0.2686\n",
      "Epoch 4/50\n",
      "50000/50000 [==============================] - 14s 287us/step - loss: 2.1341 - acc: 0.2145 - val_loss: 2.0553 - val_acc: 0.2814\n",
      "Epoch 5/50\n",
      "50000/50000 [==============================] - 13s 267us/step - loss: 2.1017 - acc: 0.2287 - val_loss: 2.0206 - val_acc: 0.2947\n",
      "Epoch 6/50\n",
      "50000/50000 [==============================] - 14s 280us/step - loss: 2.0710 - acc: 0.2422 - val_loss: 1.9915 - val_acc: 0.3031\n",
      "Epoch 7/50\n",
      "50000/50000 [==============================] - 13s 267us/step - loss: 2.0482 - acc: 0.2505 - val_loss: 1.9680 - val_acc: 0.3080\n",
      "Epoch 8/50\n",
      "50000/50000 [==============================] - 13s 270us/step - loss: 2.0261 - acc: 0.2596 - val_loss: 1.9457 - val_acc: 0.3193\n",
      "Epoch 9/50\n",
      "50000/50000 [==============================] - 14s 287us/step - loss: 2.0054 - acc: 0.2684 - val_loss: 1.9267 - val_acc: 0.3236\n",
      "Epoch 10/50\n",
      "50000/50000 [==============================] - 14s 272us/step - loss: 1.9869 - acc: 0.2744 - val_loss: 1.9095 - val_acc: 0.3279\n",
      "Epoch 11/50\n",
      "50000/50000 [==============================] - 14s 275us/step - loss: 1.9747 - acc: 0.2797 - val_loss: 1.8967 - val_acc: 0.33629747 - acc: 0.2 - ETA: 1s - loss: 1\n",
      "Epoch 12/50\n",
      "50000/50000 [==============================] - 13s 268us/step - loss: 1.9595 - acc: 0.2878 - val_loss: 1.8825 - val_acc: 0.3404\n",
      "Epoch 13/50\n",
      "50000/50000 [==============================] - 13s 268us/step - loss: 1.9455 - acc: 0.2950 - val_loss: 1.8692 - val_acc: 0.3433\n",
      "Epoch 14/50\n",
      "50000/50000 [==============================] - 13s 269us/step - loss: 1.9337 - acc: 0.2975 - val_loss: 1.8588 - val_acc: 0.3467\n",
      "Epoch 15/50\n",
      "50000/50000 [==============================] - 13s 267us/step - loss: 1.9244 - acc: 0.3025 - val_loss: 1.8495 - val_acc: 0.3490\n",
      "Epoch 16/50\n",
      "50000/50000 [==============================] - 13s 261us/step - loss: 1.9131 - acc: 0.3087 - val_loss: 1.8393 - val_acc: 0.3530\n",
      "Epoch 17/50\n",
      "50000/50000 [==============================] - 13s 267us/step - loss: 1.9062 - acc: 0.3104 - val_loss: 1.8307 - val_acc: 0.3574\n",
      "Epoch 18/50\n",
      "50000/50000 [==============================] - 14s 273us/step - loss: 1.8974 - acc: 0.3168 - val_loss: 1.8217 - val_acc: 0.3591\n",
      "Epoch 19/50\n",
      "50000/50000 [==============================] - 13s 267us/step - loss: 1.8863 - acc: 0.3197 - val_loss: 1.8139 - val_acc: 0.3631\n",
      "Epoch 20/50\n",
      "50000/50000 [==============================] - 13s 265us/step - loss: 1.8788 - acc: 0.3223 - val_loss: 1.8058 - val_acc: 0.3682\n",
      "Epoch 21/50\n",
      "50000/50000 [==============================] - 13s 265us/step - loss: 1.8721 - acc: 0.3258 - val_loss: 1.7999 - val_acc: 0.3674\n",
      "Epoch 22/50\n",
      "50000/50000 [==============================] - 14s 271us/step - loss: 1.8636 - acc: 0.3292 - val_loss: 1.7928 - val_acc: 0.3693\n",
      "Epoch 23/50\n",
      "50000/50000 [==============================] - 13s 267us/step - loss: 1.8591 - acc: 0.3300 - val_loss: 1.7866 - val_acc: 0.3691\n",
      "Epoch 24/50\n",
      "50000/50000 [==============================] - 13s 266us/step - loss: 1.8512 - acc: 0.3364 - val_loss: 1.7793 - val_acc: 0.3748oss: 1. - ETA: 1s - l - ETA: 0s - loss: 1.8510 - acc: 0.3\n",
      "Epoch 25/50\n",
      "50000/50000 [==============================] - 13s 268us/step - loss: 1.8473 - acc: 0.3358 - val_loss: 1.7733 - val_acc: 0.3765\n",
      "Epoch 26/50\n",
      "50000/50000 [==============================] - 13s 266us/step - loss: 1.8401 - acc: 0.3398 - val_loss: 1.7668 - val_acc: 0.3776\n",
      "Epoch 27/50\n",
      "50000/50000 [==============================] - 13s 267us/step - loss: 1.8354 - acc: 0.3403 - val_loss: 1.7611 - val_acc: 0.3830\n",
      "Epoch 28/50\n",
      "50000/50000 [==============================] - 13s 266us/step - loss: 1.8288 - acc: 0.3421 - val_loss: 1.7558 - val_acc: 0.3830\n",
      "Epoch 29/50\n",
      "50000/50000 [==============================] - 13s 269us/step - loss: 1.8228 - acc: 0.3455 - val_loss: 1.7501 - val_acc: 0.3855\n",
      "Epoch 30/50\n",
      "50000/50000 [==============================] - 13s 262us/step - loss: 1.8165 - acc: 0.3505 - val_loss: 1.7447 - val_acc: 0.3877349 - ETA: 2s - loss: 1.8201 - acc: 0.34 - ETA:\n",
      "Epoch 31/50\n",
      "50000/50000 [==============================] - 13s 266us/step - loss: 1.8134 - acc: 0.3506 - val_loss: 1.7388 - val_acc: 0.3884\n",
      "Epoch 32/50\n",
      "50000/50000 [==============================] - 13s 263us/step - loss: 1.8055 - acc: 0.3550 - val_loss: 1.7347 - val_acc: 0.3890\n",
      "Epoch 33/50\n",
      "50000/50000 [==============================] - 13s 267us/step - loss: 1.8021 - acc: 0.3556 - val_loss: 1.7287 - val_acc: 0.3913\n",
      "Epoch 34/50\n",
      "50000/50000 [==============================] - 13s 267us/step - loss: 1.7975 - acc: 0.3579 - val_loss: 1.7240 - val_acc: 0.3951A: 0s - loss: 1.7977 - acc: 0 - ETA: 0s - loss: 1.7977 - ac\n",
      "Epoch 35/50\n",
      "50000/50000 [==============================] - 13s 266us/step - loss: 1.7905 - acc: 0.3585 - val_loss: 1.7192 - val_acc: 0.3978\n",
      "Epoch 36/50\n",
      "50000/50000 [==============================] - 11s 229us/step - loss: 1.7881 - acc: 0.3600 - val_loss: 1.7146 - val_acc: 0.4004\n",
      "Epoch 37/50\n",
      "50000/50000 [==============================] - 7s 141us/step - loss: 1.7853 - acc: 0.3635 - val_loss: 1.7103 - val_acc: 0.4011\n",
      "Epoch 38/50\n",
      "50000/50000 [==============================] - 8s 161us/step - loss: 1.7788 - acc: 0.3624 - val_loss: 1.7054 - val_acc: 0.4016\n",
      "Epoch 39/50\n",
      "50000/50000 [==============================] - 13s 263us/step - loss: 1.7751 - acc: 0.3656 - val_loss: 1.7015 - val_acc: 0.4045\n",
      "Epoch 40/50\n",
      "50000/50000 [==============================] - 13s 265us/step - loss: 1.7715 - acc: 0.3691 - val_loss: 1.6965 - val_acc: 0.4045\n",
      "Epoch 41/50\n",
      "50000/50000 [==============================] - 13s 266us/step - loss: 1.7644 - acc: 0.3691 - val_loss: 1.6925 - val_acc: 0.4051\n",
      "Epoch 42/50\n",
      "50000/50000 [==============================] - 13s 266us/step - loss: 1.7609 - acc: 0.3716 - val_loss: 1.6881 - val_acc: 0.4086\n",
      "Epoch 43/50\n",
      "50000/50000 [==============================] - 13s 263us/step - loss: 1.7592 - acc: 0.3703 - val_loss: 1.6855 - val_acc: 0.4050 - loss: 1.758 - ETA: 1s - loss: 1.\n",
      "Epoch 44/50\n",
      "50000/50000 [==============================] - 13s 265us/step - loss: 1.7531 - acc: 0.3761 - val_loss: 1.6790 - val_acc: 0.4084\n",
      "Epoch 45/50\n",
      "50000/50000 [==============================] - 13s 263us/step - loss: 1.7504 - acc: 0.3736 - val_loss: 1.6753 - val_acc: 0.4098\n",
      "Epoch 46/50\n",
      "50000/50000 [==============================] - 13s 261us/step - loss: 1.7433 - acc: 0.3771 - val_loss: 1.6707 - val_acc: 0.4110\n",
      "Epoch 47/50\n"
     ]
    },
    {
     "name": "stdout",
     "output_type": "stream",
     "text": [
      "50000/50000 [==============================] - 13s 260us/step - loss: 1.7424 - acc: 0.3774 - val_loss: 1.6666 - val_acc: 0.4128\n",
      "Epoch 48/50\n",
      "50000/50000 [==============================] - 13s 262us/step - loss: 1.7362 - acc: 0.3838 - val_loss: 1.6631 - val_acc: 0.4175\n",
      "Epoch 49/50\n",
      "50000/50000 [==============================] - 13s 256us/step - loss: 1.7360 - acc: 0.3810 - val_loss: 1.6605 - val_acc: 0.4155\n",
      "Epoch 50/50\n",
      "50000/50000 [==============================] - 13s 261us/step - loss: 1.7296 - acc: 0.3834 - val_loss: 1.6544 - val_acc: 0.4172\n"
     ]
    }
   ],
   "source": [
    "model = build_mlp(input_shape=x_train.shape[1:], drp_ratio=Dropout_EXP)\n",
    "model.summary()\n",
    "optimizer = keras.optimizers.SGD(lr=LEARNING_RATE, nesterov=True, momentum=MOMENTUM)\n",
    "model.compile(loss=\"categorical_crossentropy\", metrics=[\"accuracy\"], optimizer=optimizer)\n",
    "\n",
    "model.fit(x_train, y_train, \n",
    "          epochs=EPOCHS, \n",
    "          batch_size=BATCH_SIZE, \n",
    "          validation_data=(x_test, y_test), \n",
    "          shuffle=True)\n",
    "\n",
    "# Collect results\n",
    "train_loss = model.history.history[\"loss\"]\n",
    "valid_loss = model.history.history[\"val_loss\"]\n",
    "train_acc = model.history.history[\"acc\"]\n",
    "valid_acc = model.history.history[\"val_acc\"]"
   ]
  },
  {
   "cell_type": "code",
   "execution_count": 8,
   "metadata": {},
   "outputs": [
    {
     "data": {
      "image/png": "[encoded data removed]",
      "text/plain": [
       "<matplotlib.figure.Figure at 0x1c498a90>"
      ]
     },
     "metadata": {
      "needs_background": "light"
     },
     "output_type": "display_data"
    },
    {
     "data": {
      "image/png": "[encoded data removed]",
      "text/plain": [
       "<matplotlib.figure.Figure at 0x27e5c8d0>"
      ]
     },
     "metadata": {
      "needs_background": "light"
     },
     "output_type": "display_data"
    }
   ],
   "source": [
    "import matplotlib.pyplot as plt\n",
    "%matplotlib inline\n",
    "\n",
    "plt.plot(range(len(train_loss)), train_loss, label=\"train loss\")\n",
    "plt.plot(range(len(valid_loss)), valid_loss, label=\"valid loss\")\n",
    "plt.legend()\n",
    "plt.title(\"Loss\")\n",
    "plt.show()\n",
    "\n",
    "plt.plot(range(len(train_acc)), train_acc, label=\"train accuracy\")\n",
    "plt.plot(range(len(valid_acc)), valid_acc, label=\"valid accuracy\")\n",
    "plt.legend()\n",
    "plt.title(\"Accuracy\")\n",
    "plt.show()"
   ]
  },
  {
   "cell_type": "code",
   "execution_count": 9,
   "metadata": {},
   "outputs": [],
   "source": [
    "## 超參數設定\n",
    "\"\"\"\n",
    "Set Hyper-parameters here\n",
    "\"\"\"\n",
    "LEARNING_RATE = 1e-4\n",
    "EPOCHS = 50\n",
    "BATCH_SIZE = 256\n",
    "MOMENTUM = 0.95\n",
    "Dropout_EXP = 0.4"
   ]
  },
  {
   "cell_type": "code",
   "execution_count": 10,
   "metadata": {},
   "outputs": [
    {
     "name": "stdout",
     "output_type": "stream",
     "text": [
      "_________________________________________________________________\n",
      "Layer (type)                 Output Shape              Param #   \n",
      "=================================================================\n",
      "input_2 (InputLayer)         (None, 3072)              0         \n",
      "_________________________________________________________________\n",
      "hidden_layer1 (Dense)        (None, 512)               1573376   \n",
      "_________________________________________________________________\n",
      "dropout_4 (Dropout)          (None, 512)               0         \n",
      "_________________________________________________________________\n",
      "hidden_layer2 (Dense)        (None, 256)               131328    \n",
      "_________________________________________________________________\n",
      "dropout_5 (Dropout)          (None, 256)               0         \n",
      "_________________________________________________________________\n",
      "hidden_layer3 (Dense)        (None, 128)               32896     \n",
      "_________________________________________________________________\n",
      "dropout_6 (Dropout)          (None, 128)               0         \n",
      "_________________________________________________________________\n",
      "output (Dense)               (None, 10)                1290      \n",
      "=================================================================\n",
      "Total params: 1,738,890\n",
      "Trainable params: 1,738,890\n",
      "Non-trainable params: 0\n",
      "_________________________________________________________________\n",
      "Train on 50000 samples, validate on 10000 samples\n",
      "Epoch 1/50\n",
      "50000/50000 [==============================] - 14s 271us/step - loss: 2.4097 - acc: 0.1042 - val_loss: 2.2776 - val_acc: 0.1668\n",
      "Epoch 2/50\n",
      "50000/50000 [==============================] - 13s 262us/step - loss: 2.3019 - acc: 0.1210 - val_loss: 2.2526 - val_acc: 0.1989\n",
      "Epoch 3/50\n",
      "50000/50000 [==============================] - 13s 263us/step - loss: 2.2746 - acc: 0.1418 - val_loss: 2.2265 - val_acc: 0.2226\n",
      "Epoch 4/50\n",
      "50000/50000 [==============================] - 13s 261us/step - loss: 2.2520 - acc: 0.1590 - val_loss: 2.1969 - val_acc: 0.2360\n",
      "Epoch 5/50\n",
      "50000/50000 [==============================] - 13s 262us/step - loss: 2.2303 - acc: 0.1694 - val_loss: 2.1697 - val_acc: 0.2486A: 2\n",
      "Epoch 6/50\n",
      "50000/50000 [==============================] - 13s 261us/step - loss: 2.2116 - acc: 0.1798 - val_loss: 2.1449 - val_acc: 0.2556\n",
      "Epoch 7/50\n",
      "50000/50000 [==============================] - 13s 259us/step - loss: 2.1894 - acc: 0.1849 - val_loss: 2.1211 - val_acc: 0.2577\n",
      "Epoch 8/50\n",
      "50000/50000 [==============================] - 13s 264us/step - loss: 2.1715 - acc: 0.1954 - val_loss: 2.0962 - val_acc: 0.2674\n",
      "Epoch 9/50\n",
      "50000/50000 [==============================] - 13s 264us/step - loss: 2.1555 - acc: 0.1984 - val_loss: 2.0758 - val_acc: 0.2706\n",
      "Epoch 10/50\n",
      "50000/50000 [==============================] - 13s 260us/step - loss: 2.1401 - acc: 0.2036 - val_loss: 2.0565 - val_acc: 0.2793\n",
      "Epoch 11/50\n",
      "50000/50000 [==============================] - 13s 264us/step - loss: 2.1257 - acc: 0.2103 - val_loss: 2.0376 - val_acc: 0.2864\n",
      "Epoch 12/50\n",
      "50000/50000 [==============================] - 13s 262us/step - loss: 2.1095 - acc: 0.2221 - val_loss: 2.0207 - val_acc: 0.2942\n",
      "Epoch 13/50\n",
      "50000/50000 [==============================] - 13s 261us/step - loss: 2.0957 - acc: 0.2229 - val_loss: 2.0067 - val_acc: 0.3059\n",
      "Epoch 14/50\n",
      "50000/50000 [==============================] - 13s 264us/step - loss: 2.0842 - acc: 0.2279 - val_loss: 1.9906 - val_acc: 0.3079\n",
      "Epoch 15/50\n",
      "50000/50000 [==============================] - 13s 261us/step - loss: 2.0737 - acc: 0.2322 - val_loss: 1.9767 - val_acc: 0.3134\n",
      "Epoch 16/50\n",
      "50000/50000 [==============================] - 13s 263us/step - loss: 2.0559 - acc: 0.2417 - val_loss: 1.9628 - val_acc: 0.3185\n",
      "Epoch 17/50\n",
      "50000/50000 [==============================] - 13s 257us/step - loss: 2.0457 - acc: 0.2481 - val_loss: 1.9498 - val_acc: 0.3250 ETA: 1s - loss: 2.0460 - acc: 0 - ETA: 0s - loss: 2.0456 \n",
      "Epoch 18/50\n",
      "50000/50000 [==============================] - 13s 261us/step - loss: 2.0396 - acc: 0.2497 - val_loss: 1.9416 - val_acc: 0.3280 0 - ETA: 0s - loss: 2.0402 - acc: 0.24\n",
      "Epoch 19/50\n",
      "50000/50000 [==============================] - 13s 262us/step - loss: 2.0307 - acc: 0.2530 - val_loss: 1.9297 - val_acc: 0.3320\n",
      "Epoch 20/50\n",
      "50000/50000 [==============================] - 13s 260us/step - loss: 2.0238 - acc: 0.2561 - val_loss: 1.9220 - val_acc: 0.3343\n",
      "Epoch 21/50\n",
      "50000/50000 [==============================] - 13s 261us/step - loss: 2.0117 - acc: 0.2578 - val_loss: 1.9122 - val_acc: 0.3372 - ETA: 1\n",
      "Epoch 22/50\n",
      "50000/50000 [==============================] - 13s 256us/step - loss: 2.0018 - acc: 0.2653 - val_loss: 1.9021 - val_acc: 0.3379\n",
      "Epoch 23/50\n",
      "50000/50000 [==============================] - 13s 262us/step - loss: 1.9954 - acc: 0.2704 - val_loss: 1.8954 - val_acc: 0.3398\n",
      "Epoch 24/50\n",
      "50000/50000 [==============================] - 13s 260us/step - loss: 1.9895 - acc: 0.2707 - val_loss: 1.8874 - val_acc: 0.3431\n",
      "Epoch 25/50\n",
      "50000/50000 [==============================] - 13s 258us/step - loss: 1.9858 - acc: 0.2735 - val_loss: 1.8810 - val_acc: 0.3460\n",
      "Epoch 26/50\n",
      "50000/50000 [==============================] - 13s 257us/step - loss: 1.9763 - acc: 0.2746 - val_loss: 1.8733 - val_acc: 0.3478\n",
      "Epoch 27/50\n",
      "50000/50000 [==============================] - 13s 261us/step - loss: 1.9756 - acc: 0.2756 - val_loss: 1.8684 - val_acc: 0.3503\n",
      "Epoch 28/50\n",
      "50000/50000 [==============================] - 13s 258us/step - loss: 1.9650 - acc: 0.2841 - val_loss: 1.8579 - val_acc: 0.3534\n",
      "Epoch 29/50\n",
      "50000/50000 [==============================] - 13s 259us/step - loss: 1.9593 - acc: 0.2859 - val_loss: 1.8536 - val_acc: 0.3583\n",
      "Epoch 30/50\n",
      "50000/50000 [==============================] - 13s 258us/step - loss: 1.9525 - acc: 0.2883 - val_loss: 1.8487 - val_acc: 0.3584\n",
      "Epoch 31/50\n",
      "50000/50000 [==============================] - 13s 258us/step - loss: 1.9474 - acc: 0.2875 - val_loss: 1.8413 - val_acc: 0.3596\n",
      "Epoch 32/50\n",
      "50000/50000 [==============================] - 13s 257us/step - loss: 1.9392 - acc: 0.2928 - val_loss: 1.8360 - val_acc: 0.3623\n",
      "Epoch 33/50\n",
      "50000/50000 [==============================] - 13s 257us/step - loss: 1.9370 - acc: 0.2947 - val_loss: 1.8302 - val_acc: 0.3666\n",
      "Epoch 34/50\n",
      "50000/50000 [==============================] - 13s 259us/step - loss: 1.9298 - acc: 0.2995 - val_loss: 1.8256 - val_acc: 0.3650\n",
      "Epoch 35/50\n",
      "50000/50000 [==============================] - 13s 257us/step - loss: 1.9275 - acc: 0.2980 - val_loss: 1.8214 - val_acc: 0.3685\n",
      "Epoch 36/50\n",
      "50000/50000 [==============================] - 7s 146us/step - loss: 1.9235 - acc: 0.3020 - val_loss: 1.8142 - val_acc: 0.3697\n",
      "Epoch 37/50\n",
      "50000/50000 [==============================] - 7s 135us/step - loss: 1.9176 - acc: 0.3034 - val_loss: 1.8087 - val_acc: 0.3684\n",
      "Epoch 38/50\n",
      "50000/50000 [==============================] - 12s 231us/step - loss: 1.9096 - acc: 0.3063 - val_loss: 1.8039 - val_acc: 0.3718\n",
      "Epoch 39/50\n",
      "50000/50000 [==============================] - 13s 258us/step - loss: 1.9072 - acc: 0.3053 - val_loss: 1.8000 - val_acc: 0.3738\n",
      "Epoch 40/50\n",
      "50000/50000 [==============================] - 13s 252us/step - loss: 1.9032 - acc: 0.3084 - val_loss: 1.7928 - val_acc: 0.3759\n",
      "Epoch 41/50\n",
      "50000/50000 [==============================] - 13s 254us/step - loss: 1.8993 - acc: 0.3117 - val_loss: 1.7896 - val_acc: 0.3773\n",
      "Epoch 42/50\n",
      "50000/50000 [==============================] - 13s 261us/step - loss: 1.8909 - acc: 0.3149 - val_loss: 1.7869 - val_acc: 0.3780\n",
      "Epoch 43/50\n",
      "50000/50000 [==============================] - 13s 260us/step - loss: 1.8896 - acc: 0.3151 - val_loss: 1.7801 - val_acc: 0.3782\n",
      "Epoch 44/50\n",
      "50000/50000 [==============================] - 13s 261us/step - loss: 1.8883 - acc: 0.3158 - val_loss: 1.7768 - val_acc: 0.3797\n",
      "Epoch 45/50\n",
      "50000/50000 [==============================] - 13s 256us/step - loss: 1.8846 - acc: 0.3163 - val_loss: 1.7733 - val_acc: 0.3798\n",
      "Epoch 46/50\n",
      "50000/50000 [==============================] - 13s 259us/step - loss: 1.8779 - acc: 0.3182 - val_loss: 1.7671 - val_acc: 0.3841\n",
      "Epoch 47/50\n",
      "50000/50000 [==============================] - 13s 259us/step - loss: 1.8752 - acc: 0.3204 - val_loss: 1.7638 - val_acc: 0.3840\n",
      "Epoch 48/50\n"
     ]
    },
    {
     "name": "stdout",
     "output_type": "stream",
     "text": [
      "50000/50000 [==============================] - 13s 264us/step - loss: 1.8718 - acc: 0.3220 - val_loss: 1.7582 - val_acc: 0.3843\n",
      "Epoch 49/50\n",
      "50000/50000 [==============================] - 13s 264us/step - loss: 1.8636 - acc: 0.3270 - val_loss: 1.7553 - val_acc: 0.3880\n",
      "Epoch 50/50\n",
      "50000/50000 [==============================] - 13s 259us/step - loss: 1.8630 - acc: 0.3259 - val_loss: 1.7499 - val_acc: 0.3903\n"
     ]
    }
   ],
   "source": [
    "model = build_mlp(input_shape=x_train.shape[1:], drp_ratio=Dropout_EXP)\n",
    "model.summary()\n",
    "optimizer = keras.optimizers.SGD(lr=LEARNING_RATE, nesterov=True, momentum=MOMENTUM)\n",
    "model.compile(loss=\"categorical_crossentropy\", metrics=[\"accuracy\"], optimizer=optimizer)\n",
    "\n",
    "model.fit(x_train, y_train, \n",
    "          epochs=EPOCHS, \n",
    "          batch_size=BATCH_SIZE, \n",
    "          validation_data=(x_test, y_test), \n",
    "          shuffle=True)\n",
    "\n",
    "# Collect results\n",
    "train_loss = model.history.history[\"loss\"]\n",
    "valid_loss = model.history.history[\"val_loss\"]\n",
    "train_acc = model.history.history[\"acc\"]\n",
    "valid_acc = model.history.history[\"val_acc\"]"
   ]
  },
  {
   "cell_type": "code",
   "execution_count": 11,
   "metadata": {},
   "outputs": [
    {
     "data": {
      "image/png": "[encoded data removed]",
      "text/plain": [
       "<matplotlib.figure.Figure at 0x27ef2240>"
      ]
     },
     "metadata": {
      "needs_background": "light"
     },
     "output_type": "display_data"
    },
    {
     "data": {
      "image/png": "[encoded data removed]",
      "text/plain": [
       "<matplotlib.figure.Figure at 0x2c61bfd0>"
      ]
     },
     "metadata": {
      "needs_background": "light"
     },
     "output_type": "display_data"
    }
   ],
   "source": [
    "import matplotlib.pyplot as plt\n",
    "%matplotlib inline\n",
    "\n",
    "plt.plot(range(len(train_loss)), train_loss, label=\"train loss\")\n",
    "plt.plot(range(len(valid_loss)), valid_loss, label=\"valid loss\")\n",
    "plt.legend()\n",
    "plt.title(\"Loss\")\n",
    "plt.show()\n",
    "\n",
    "plt.plot(range(len(train_acc)), train_acc, label=\"train accuracy\")\n",
    "plt.plot(range(len(valid_acc)), valid_acc, label=\"valid accuracy\")\n",
    "plt.legend()\n",
    "plt.title(\"Accuracy\")\n",
    "plt.show()"
   ]
  },
  {
   "cell_type": "code",
   "execution_count": null,
   "metadata": {},
   "outputs": [],
   "source": []
  }
 ],
 "metadata": {
  "kernelspec": {
   "display_name": "Python 3",
   "language": "python",
   "name": "python3"
  },
  "language_info": {
   "codemirror_mode": {
    "name": "ipython",
    "version": 3
   },
   "file_extension": ".py",
   "mimetype": "text/x-python",
   "name": "python",
   "nbconvert_exporter": "python",
   "pygments_lexer": "ipython3",
   "version": "3.6.8"
  }
 },
 "nbformat": 4,
 "nbformat_minor": 2
}
