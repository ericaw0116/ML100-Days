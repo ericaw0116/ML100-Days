{
 "cells": [
  {
   "cell_type": "markdown",
   "metadata": {},
   "source": [
    "## HW1\n",
    "#### 1. 你選的這組資料為何重要\n",
    "此競賽資料提供舊金山所有社區12年的犯罪報告，在城市居住中，犯罪行為和地點是最直接影響居民的安全，若能從中探勘出重要的資訊，可利於警方做巡邏以及駐點的佈局，大幅降低犯罪率。\n",
    "\n",
    "#### 2. 資料從何而來 (tips: 譬如提供者是誰、以什麼方式蒐集)\n",
    "這個資料是由SF OpenData所提供，SF OpenData為舊金山City和County發佈至central clearinghouse的數據集\n",
    "\n",
    "#### 3. 蒐集而來的資料型態為何\n",
    "此競賽資料提供20030101~20150513的舊金山的犯罪報告，數據內容包括：<br>\n",
    "dates(犯罪日期)-日期時間型態<br>\n",
    "Category(犯罪類別(僅於train)-目標變項)-類別型態<br>\n",
    "Descript(犯罪事件的描述(僅於train))-字串型態<br>\n",
    "DayofWeek(星期幾)-類別型態<br>\n",
    "PdDistrict(警察局名稱)-類別型態<br>\n",
    "Resolution(解決方法(僅於train))-類別型態<br>\n",
    "Address(地址)-字串型態<br>\n",
    "X(經度)-數值型態<br>\n",
    "Y(緯度)-數值型態\n",
    "\n",
    "#### 4. 這組資料想解決的問題如何評估\n",
    "此競賽必須預測出發生的類罪類別，評估指標為multi-class logarithmic loss\n",
    "$$ logloss = -\\frac{1}{N}\\sum_{i=1}^{N}\\sum_{j=1}^{M}{y_{ij}\\log_{}(p_{ij})} $$\n",
    "並希望參賽者使用可視覺化的結果來呈現Top Crimes Map。"
   ]
  },
  {
   "cell_type": "markdown",
   "metadata": {},
   "source": [
    "## HW2\n",
    "#### 1. 核心問題為何 (tips：如何定義 「提升業績 & 你的假設」)\n",
    "自由載客車隊，主要客群為旅遊散客、商務人士，應分析每個時間點的動向，探勘出熱門和冷門的上下車地點和時段，並加入天氣狀況去做調整，預測載客地點之車子需求量以及人數，根據結果去部屬車隊的位置、車子大小以及數量。\n",
    "\n",
    "#### 2. 資料從何而來 (tips：哪些資料可能會對你想問的問題產生影響 & 資料如何蒐集)\n",
    "各時間點，旅遊景點之遊客數、上下車地點以及其人數和時段、上下車距離、車資，和天氣型態。可從旅遊景點收集各時間點之遊客數，以及車行過去的載客資料。\n",
    "\n",
    "#### 3. 蒐集而來的資料型態為何\n",
    "載客時間-日期時間型態<br>\n",
    "景點之遊客數-數值型態<br>\n",
    "上下車經緯度-數值型態<br>\n",
    "載客人數-數值型態<br>\n",
    "上下車距離-數值型態<br>\n",
    "車資-數值型態<br>\n",
    "載客時間之天氣-類別型態\n",
    "\n",
    "#### 4. 你要回答的問題，其如何評估 (tips：你的假設如何驗證)\n",
    "根據預測出的車子需求量以及客人人數，給予建議的車子數量以及車子大小，接著去比對測試資料該小時內的車子需求量以及客人人數來評估模型準確性。"
   ]
  },
  {
   "cell_type": "markdown",
   "metadata": {},
   "source": [
    "## HW3\n",
    "## 練習時間\n",
    "#### 請寫一個函式用來計算 Mean Square Error\n",
    "Mean Absolute Error: $$ MAE = \\frac{1}{n}\\sum_{i=1}^{n}{\\mid(Y_i - \\hat{Y}_i)\\mid} $$ <br>\n",
    "Mean Squared Error: $$ MSE = \\frac{1}{n}\\sum_{i=1}^{n}{(Y_i - \\hat{Y}_i)^2} $$\n",
    "\n",
    "### Hint: [如何取平方](https://googoodesign.gitbooks.io/-ezpython/unit-1.html)"
   ]
  },
  {
   "cell_type": "code",
   "execution_count": 1,
   "metadata": {
    "collapsed": true
   },
   "outputs": [],
   "source": [
    "import numpy as np\n",
    "import matplotlib.pyplot as plt"
   ]
  },
  {
   "cell_type": "code",
   "execution_count": 2,
   "metadata": {
    "collapsed": true
   },
   "outputs": [],
   "source": [
    "def mean_absolute_error(y, yp):\n",
    "    \"\"\"\n",
    "    計算 MAE\n",
    "    Args:\n",
    "        - y: 實際值\n",
    "        - yp: 預測值\n",
    "    Return:\n",
    "        - mae: MAE\n",
    "    \"\"\"\n",
    "    mae = MAE = sum(abs(y - yp)) / len(y)\n",
    "    return mae"
   ]
  },
  {
   "cell_type": "code",
   "execution_count": 7,
   "metadata": {
    "collapsed": true
   },
   "outputs": [],
   "source": [
    "def mean_squared_error(y, yp):\n",
    "    \"\"\"\n",
    "    請完成這個 Function 後往下執行\n",
    "    計算 MSE\n",
    "    Args:\n",
    "        - y: 實際值\n",
    "        - yp: 預測值\n",
    "    Return:\n",
    "        - mse: MSE\n",
    "    \"\"\"\n",
    "    mse = MSE = sum((y - yp)**2) / len(y)\n",
    "    return mse"
   ]
  },
  {
   "cell_type": "code",
   "execution_count": 4,
   "metadata": {},
   "outputs": [
    {
     "data": {
      "image/png": "[encoded data removed]",
      "text/plain": [
       "<matplotlib.figure.Figure at 0x168d99b0>"
      ]
     },
     "metadata": {},
     "output_type": "display_data"
    }
   ],
   "source": [
    "w = 3\n",
    "b = 0.5\n",
    "\n",
    "x_lin = np.linspace(0, 100, 101)\n",
    "\n",
    "y = (x_lin + np.random.randn(101) * 5) * w + b\n",
    "\n",
    "plt.plot(x_lin, y, 'b.', label = 'data points')\n",
    "plt.title(\"Assume we have data points\")\n",
    "plt.legend(loc = 2)\n",
    "plt.show()"
   ]
  },
  {
   "cell_type": "code",
   "execution_count": 5,
   "metadata": {},
   "outputs": [
    {
     "data": {
      "image/png": "[encoded data removed]",
      "text/plain": [
       "<matplotlib.figure.Figure at 0x168d4a58>"
      ]
     },
     "metadata": {},
     "output_type": "display_data"
    }
   ],
   "source": [
    "y_hat = x_lin * w + b\n",
    "plt.plot(x_lin, y, 'b.', label = 'data')\n",
    "plt.plot(x_lin, y_hat, 'r-', label = 'prediction')\n",
    "plt.title(\"Assume we have data points (And the prediction)\")\n",
    "plt.legend(loc = 2)\n",
    "plt.show()"
   ]
  },
  {
   "cell_type": "code",
   "execution_count": 8,
   "metadata": {},
   "outputs": [
    {
     "name": "stdout",
     "output_type": "stream",
     "text": [
      "The Mean squared error is 295.626\n",
      "The Mean absolute error is 13.351\n"
     ]
    }
   ],
   "source": [
    "# 執行 Function, 確認有沒有正常執行\n",
    "MSE = mean_squared_error(y, y_hat)\n",
    "MAE = mean_absolute_error(y, y_hat)\n",
    "print(\"The Mean squared error is %.3f\" % (MSE))\n",
    "print(\"The Mean absolute error is %.3f\" % (MAE))"
   ]
  },
  {
   "cell_type": "code",
   "execution_count": null,
   "metadata": {
    "collapsed": true
   },
   "outputs": [],
   "source": []
  }
 ],
 "metadata": {
  "anaconda-cloud": {},
  "kernelspec": {
   "display_name": "Python 3",
   "language": "python",
   "name": "python3"
  },
  "language_info": {
   "codemirror_mode": {
    "name": "ipython",
    "version": 3
   },
   "file_extension": ".py",
   "mimetype": "text/x-python",
   "name": "python",
   "nbconvert_exporter": "python",
   "pygments_lexer": "ipython3",
   "version": "3.6.1"
  }
 },
 "nbformat": 4,
 "nbformat_minor": 1
}
