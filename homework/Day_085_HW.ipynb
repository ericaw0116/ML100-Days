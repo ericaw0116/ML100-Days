{
 "cells": [
  {
   "cell_type": "markdown",
   "metadata": {},
   "source": [
    "## Work\n",
    "1. 試改變 monitor \"Validation Accuracy\" 並比較結果\n",
    "2. 調整 earlystop 的等待次數至 10, 25 並比較結果"
   ]
  },
  {
   "cell_type": "code",
   "execution_count": 1,
   "metadata": {},
   "outputs": [
    {
     "name": "stderr",
     "output_type": "stream",
     "text": [
      "Using TensorFlow backend.\n"
     ]
    }
   ],
   "source": [
    "import os\n",
    "import keras\n",
    "import matplotlib.pyplot as plt\n",
    "%matplotlib inline\n",
    "\n",
    "\n",
    "# Disable GPU\n",
    "os.environ[\"CUDA_VISIBLE_DEVICES\"] = \"\""
   ]
  },
  {
   "cell_type": "code",
   "execution_count": 2,
   "metadata": {},
   "outputs": [],
   "source": [
    "train, test = keras.datasets.cifar10.load_data()"
   ]
  },
  {
   "cell_type": "code",
   "execution_count": 3,
   "metadata": {},
   "outputs": [],
   "source": [
    "## 資料前處理\n",
    "def preproc_x(x, flatten=True):\n",
    "    x = x / 255.\n",
    "    if flatten:\n",
    "        x = x.reshape((len(x), -1))\n",
    "    return x\n",
    "\n",
    "def preproc_y(y, num_classes=10):\n",
    "    if y.shape[-1] == 1:\n",
    "        y = keras.utils.to_categorical(y, num_classes)\n",
    "    return y    "
   ]
  },
  {
   "cell_type": "code",
   "execution_count": 4,
   "metadata": {},
   "outputs": [],
   "source": [
    "x_train, y_train = train\n",
    "x_test, y_test = test\n",
    "\n",
    "# Preproc the inputs\n",
    "x_train = preproc_x(x_train)\n",
    "x_test = preproc_x(x_test)\n",
    "\n",
    "# Preprc the outputs\n",
    "y_train = preproc_y(y_train)\n",
    "y_test = preproc_y(y_test)"
   ]
  },
  {
   "cell_type": "code",
   "execution_count": 5,
   "metadata": {},
   "outputs": [],
   "source": [
    "from keras.layers import BatchNormalization\n",
    "def build_mlp(input_shape, output_units=10, num_neurons=[512, 256, 128]):\n",
    "    input_layer = keras.layers.Input(input_shape)\n",
    "    \n",
    "    for i, n_units in enumerate(num_neurons):\n",
    "        if i == 0:\n",
    "            x = keras.layers.Dense(units=n_units, \n",
    "                                   activation=\"relu\", \n",
    "                                   name=\"hidden_layer\"+str(i+1))(input_layer)\n",
    "            x = BatchNormalization()(x)\n",
    "        else:\n",
    "            x = keras.layers.Dense(units=n_units, \n",
    "                                   activation=\"relu\", \n",
    "                                   name=\"hidden_layer\"+str(i+1))(x)\n",
    "            x = BatchNormalization()(x)\n",
    "    \n",
    "    out = keras.layers.Dense(units=output_units, activation=\"softmax\", name=\"output\")(x)\n",
    "    \n",
    "    model = keras.models.Model(inputs=[input_layer], outputs=[out])\n",
    "    return model"
   ]
  },
  {
   "cell_type": "code",
   "execution_count": 6,
   "metadata": {},
   "outputs": [],
   "source": [
    "## 超參數設定\n",
    "\"\"\"\n",
    "Set your hyper-parameters\n",
    "\"\"\"\n",
    "## 超參數設定\n",
    "LEARNING_RATE = 1e-3\n",
    "EPOCHS = 50\n",
    "BATCH_SIZE = 1024\n",
    "MOMENTUM = 0.95"
   ]
  },
  {
   "cell_type": "code",
   "execution_count": 7,
   "metadata": {},
   "outputs": [
    {
     "name": "stdout",
     "output_type": "stream",
     "text": [
      "_________________________________________________________________\n",
      "Layer (type)                 Output Shape              Param #   \n",
      "=================================================================\n",
      "input_1 (InputLayer)         (None, 3072)              0         \n",
      "_________________________________________________________________\n",
      "hidden_layer1 (Dense)        (None, 512)               1573376   \n",
      "_________________________________________________________________\n",
      "batch_normalization_1 (Batch (None, 512)               2048      \n",
      "_________________________________________________________________\n",
      "hidden_layer2 (Dense)        (None, 256)               131328    \n",
      "_________________________________________________________________\n",
      "batch_normalization_2 (Batch (None, 256)               1024      \n",
      "_________________________________________________________________\n",
      "hidden_layer3 (Dense)        (None, 128)               32896     \n",
      "_________________________________________________________________\n",
      "batch_normalization_3 (Batch (None, 128)               512       \n",
      "_________________________________________________________________\n",
      "output (Dense)               (None, 10)                1290      \n",
      "=================================================================\n",
      "Total params: 1,742,474\n",
      "Trainable params: 1,740,682\n",
      "Non-trainable params: 1,792\n",
      "_________________________________________________________________\n",
      "Train on 50000 samples, validate on 10000 samples\n",
      "Epoch 1/50\n",
      "50000/50000 [==============================] - 10s 194us/step - loss: 2.1814 - acc: 0.2728 - val_loss: 2.0918 - val_acc: 0.3109\n",
      "Epoch 2/50\n",
      "50000/50000 [==============================] - 6s 120us/step - loss: 1.7325 - acc: 0.3943 - val_loss: 1.7928 - val_acc: 0.3818\n",
      "Epoch 3/50\n",
      "50000/50000 [==============================] - 6s 118us/step - loss: 1.6103 - acc: 0.4352 - val_loss: 1.6940 - val_acc: 0.4129\n",
      "Epoch 4/50\n",
      "50000/50000 [==============================] - 6s 122us/step - loss: 1.5389 - acc: 0.4611 - val_loss: 1.6124 - val_acc: 0.4358\n",
      "Epoch 5/50\n",
      "50000/50000 [==============================] - 6s 119us/step - loss: 1.4848 - acc: 0.4805 - val_loss: 1.5826 - val_acc: 0.4443\n",
      "Epoch 6/50\n",
      "50000/50000 [==============================] - 6s 117us/step - loss: 1.4416 - acc: 0.4953 - val_loss: 1.5604 - val_acc: 0.4520\n",
      "Epoch 7/50\n",
      "50000/50000 [==============================] - 6s 122us/step - loss: 1.4015 - acc: 0.5101 - val_loss: 1.5487 - val_acc: 0.4554\n",
      "Epoch 8/50\n",
      "50000/50000 [==============================] - 6s 118us/step - loss: 1.3678 - acc: 0.5218 - val_loss: 1.5309 - val_acc: 0.4629\n",
      "Epoch 9/50\n",
      "50000/50000 [==============================] - 6s 120us/step - loss: 1.3368 - acc: 0.5334 - val_loss: 1.5059 - val_acc: 0.4717\n",
      "Epoch 10/50\n",
      "50000/50000 [==============================] - 6s 118us/step - loss: 1.3068 - acc: 0.5413 - val_loss: 1.4970 - val_acc: 0.4742\n",
      "Epoch 11/50\n",
      "50000/50000 [==============================] - 6s 119us/step - loss: 1.2795 - acc: 0.5516 - val_loss: 1.5037 - val_acc: 0.4734\n",
      "Epoch 12/50\n",
      "50000/50000 [==============================] - 6s 118us/step - loss: 1.2522 - acc: 0.5634 - val_loss: 1.4816 - val_acc: 0.4743\n",
      "Epoch 13/50\n",
      "50000/50000 [==============================] - 6s 118us/step - loss: 1.2256 - acc: 0.5713 - val_loss: 1.4745 - val_acc: 0.4837\n",
      "Epoch 14/50\n",
      "50000/50000 [==============================] - 6s 120us/step - loss: 1.2031 - acc: 0.5819 - val_loss: 1.4840 - val_acc: 0.4790\n",
      "Epoch 15/50\n",
      "50000/50000 [==============================] - 6s 121us/step - loss: 1.1782 - acc: 0.5884 - val_loss: 1.4758 - val_acc: 0.4781\n",
      "Epoch 16/50\n",
      "50000/50000 [==============================] - 6s 117us/step - loss: 1.1555 - acc: 0.6009 - val_loss: 1.4667 - val_acc: 0.4858\n",
      "Epoch 17/50\n",
      "50000/50000 [==============================] - 6s 119us/step - loss: 1.1309 - acc: 0.6095 - val_loss: 1.4647 - val_acc: 0.4812\n",
      "Epoch 18/50\n",
      "50000/50000 [==============================] - 6s 121us/step - loss: 1.1072 - acc: 0.6184 - val_loss: 1.4544 - val_acc: 0.4912\n",
      "Epoch 19/50\n",
      "50000/50000 [==============================] - 6s 119us/step - loss: 1.0867 - acc: 0.6259 - val_loss: 1.4661 - val_acc: 0.4876\n",
      "Epoch 20/50\n",
      "50000/50000 [==============================] - 6s 119us/step - loss: 1.0651 - acc: 0.6342 - val_loss: 1.4555 - val_acc: 0.4914\n",
      "Epoch 21/50\n",
      "50000/50000 [==============================] - 6s 118us/step - loss: 1.0419 - acc: 0.6417 - val_loss: 1.4477 - val_acc: 0.4877\n",
      "Epoch 22/50\n",
      "50000/50000 [==============================] - 6s 122us/step - loss: 1.0198 - acc: 0.6528 - val_loss: 1.4597 - val_acc: 0.4915\n",
      "Epoch 23/50\n",
      "50000/50000 [==============================] - 6s 120us/step - loss: 1.0004 - acc: 0.6592 - val_loss: 1.4554 - val_acc: 0.4979\n",
      "Epoch 24/50\n",
      "50000/50000 [==============================] - 6s 119us/step - loss: 0.9781 - acc: 0.6684 - val_loss: 1.4660 - val_acc: 0.4943\n",
      "Epoch 25/50\n",
      "50000/50000 [==============================] - 6s 119us/step - loss: 0.9592 - acc: 0.6757 - val_loss: 1.4710 - val_acc: 0.4934\n",
      "Epoch 26/50\n",
      "50000/50000 [==============================] - 6s 122us/step - loss: 0.9370 - acc: 0.6872 - val_loss: 1.4746 - val_acc: 0.4910\n",
      "Epoch 27/50\n",
      "50000/50000 [==============================] - 6s 129us/step - loss: 0.9192 - acc: 0.6922 - val_loss: 1.4765 - val_acc: 0.4940\n",
      "Epoch 28/50\n",
      "50000/50000 [==============================] - 6s 127us/step - loss: 0.8960 - acc: 0.7015 - val_loss: 1.4874 - val_acc: 0.4910\n",
      "Epoch 29/50\n",
      "50000/50000 [==============================] - 6s 125us/step - loss: 0.8779 - acc: 0.7075 - val_loss: 1.4849 - val_acc: 0.4895\n",
      "Epoch 30/50\n",
      "50000/50000 [==============================] - 6s 125us/step - loss: 0.8584 - acc: 0.7155 - val_loss: 1.4830 - val_acc: 0.4930\n",
      "Epoch 31/50\n",
      "50000/50000 [==============================] - 6s 122us/step - loss: 0.8376 - acc: 0.7243 - val_loss: 1.4970 - val_acc: 0.4887\n",
      "Epoch 32/50\n",
      "50000/50000 [==============================] - 7s 137us/step - loss: 0.8183 - acc: 0.7313 - val_loss: 1.5161 - val_acc: 0.4879\n",
      "Epoch 33/50\n",
      "50000/50000 [==============================] - 6s 123us/step - loss: 0.8014 - acc: 0.7375 - val_loss: 1.5118 - val_acc: 0.4909\n",
      "Epoch 00033: early stopping\n"
     ]
    }
   ],
   "source": [
    "# 載入 Callbacks\n",
    "\"\"\"\n",
    "Earlystop setting\n",
    "\"\"\"\n",
    "\n",
    "\"\"\"\n",
    "Your Training loop and Plot the results\n",
    "\"\"\"\n",
    "from keras.callbacks import EarlyStopping\n",
    "\n",
    "earlystop = EarlyStopping(monitor=\"val_acc\", \n",
    "                          patience=10, \n",
    "                          verbose=1\n",
    "                          )\n",
    "\n",
    "model = build_mlp(input_shape=x_train.shape[1:])\n",
    "model.summary()\n",
    "optimizer = keras.optimizers.SGD(lr=LEARNING_RATE, nesterov=True, momentum=MOMENTUM)\n",
    "model.compile(loss=\"categorical_crossentropy\", metrics=[\"accuracy\"], optimizer=optimizer)\n",
    "\n",
    "model.fit(x_train, y_train, \n",
    "          epochs=EPOCHS, \n",
    "          batch_size=BATCH_SIZE, \n",
    "          validation_data=(x_test, y_test), \n",
    "          shuffle=True,\n",
    "          callbacks=[earlystop]\n",
    "         )\n",
    "\n",
    "# Collect results\n",
    "train_loss = model.history.history[\"loss\"]\n",
    "valid_loss = model.history.history[\"val_loss\"]\n",
    "train_acc = model.history.history[\"acc\"]\n",
    "valid_acc = model.history.history[\"val_acc\"]\n"
   ]
  },
  {
   "cell_type": "code",
   "execution_count": 8,
   "metadata": {},
   "outputs": [
    {
     "data": {
      "image/png": "[encoded data removed]",
      "text/plain": [
       "<matplotlib.figure.Figure at 0x1c723080>"
      ]
     },
     "metadata": {
      "needs_background": "light"
     },
     "output_type": "display_data"
    },
    {
     "data": {
      "image/png": "[encoded data removed]",
      "text/plain": [
       "<matplotlib.figure.Figure at 0x2938e4e0>"
      ]
     },
     "metadata": {
      "needs_background": "light"
     },
     "output_type": "display_data"
    }
   ],
   "source": [
    "plt.plot(range(len(train_loss)), train_loss, label=\"train loss\")\n",
    "plt.plot(range(len(valid_loss)), valid_loss, label=\"valid loss\")\n",
    "plt.legend()\n",
    "plt.title(\"Loss\")\n",
    "plt.show()\n",
    "\n",
    "plt.plot(range(len(train_acc)), train_acc, label=\"train accuracy\")\n",
    "plt.plot(range(len(valid_acc)), valid_acc, label=\"valid accuracy\")\n",
    "plt.legend()\n",
    "plt.title(\"Accuracy\")\n",
    "plt.show()"
   ]
  },
  {
   "cell_type": "code",
   "execution_count": 9,
   "metadata": {},
   "outputs": [
    {
     "name": "stdout",
     "output_type": "stream",
     "text": [
      "_________________________________________________________________\n",
      "Layer (type)                 Output Shape              Param #   \n",
      "=================================================================\n",
      "input_2 (InputLayer)         (None, 3072)              0         \n",
      "_________________________________________________________________\n",
      "hidden_layer1 (Dense)        (None, 512)               1573376   \n",
      "_________________________________________________________________\n",
      "batch_normalization_4 (Batch (None, 512)               2048      \n",
      "_________________________________________________________________\n",
      "hidden_layer2 (Dense)        (None, 256)               131328    \n",
      "_________________________________________________________________\n",
      "batch_normalization_5 (Batch (None, 256)               1024      \n",
      "_________________________________________________________________\n",
      "hidden_layer3 (Dense)        (None, 128)               32896     \n",
      "_________________________________________________________________\n",
      "batch_normalization_6 (Batch (None, 128)               512       \n",
      "_________________________________________________________________\n",
      "output (Dense)               (None, 10)                1290      \n",
      "=================================================================\n",
      "Total params: 1,742,474\n",
      "Trainable params: 1,740,682\n",
      "Non-trainable params: 1,792\n",
      "_________________________________________________________________\n",
      "Train on 50000 samples, validate on 10000 samples\n",
      "Epoch 1/50\n",
      "50000/50000 [==============================] - 10s 193us/step - loss: 2.1819 - acc: 0.2771 - val_loss: 2.1006 - val_acc: 0.3120\n",
      "Epoch 2/50\n",
      "50000/50000 [==============================] - 6s 123us/step - loss: 1.7253 - acc: 0.3988 - val_loss: 1.7810 - val_acc: 0.3891\n",
      "Epoch 3/50\n",
      "50000/50000 [==============================] - 6s 120us/step - loss: 1.6081 - acc: 0.4386 - val_loss: 1.6836 - val_acc: 0.4160\n",
      "Epoch 4/50\n",
      "50000/50000 [==============================] - 6s 120us/step - loss: 1.5345 - acc: 0.4649 - val_loss: 1.6231 - val_acc: 0.4257\n",
      "Epoch 5/50\n",
      "50000/50000 [==============================] - 6s 119us/step - loss: 1.4796 - acc: 0.4828 - val_loss: 1.5928 - val_acc: 0.4424\n",
      "Epoch 6/50\n",
      "50000/50000 [==============================] - 6s 120us/step - loss: 1.4337 - acc: 0.4998 - val_loss: 1.5658 - val_acc: 0.4500\n",
      "Epoch 7/50\n",
      "50000/50000 [==============================] - 6s 125us/step - loss: 1.3967 - acc: 0.5145 - val_loss: 1.5407 - val_acc: 0.4610\n",
      "Epoch 8/50\n",
      "50000/50000 [==============================] - 6s 121us/step - loss: 1.3604 - acc: 0.5260 - val_loss: 1.5308 - val_acc: 0.4597\n",
      "Epoch 9/50\n",
      "50000/50000 [==============================] - 6s 122us/step - loss: 1.3291 - acc: 0.5386 - val_loss: 1.5059 - val_acc: 0.4678\n",
      "Epoch 10/50\n",
      "50000/50000 [==============================] - 6s 121us/step - loss: 1.2998 - acc: 0.5490 - val_loss: 1.5131 - val_acc: 0.4613\n",
      "Epoch 11/50\n",
      "50000/50000 [==============================] - 6s 120us/step - loss: 1.2721 - acc: 0.5602 - val_loss: 1.4950 - val_acc: 0.4747\n",
      "Epoch 12/50\n",
      "50000/50000 [==============================] - 6s 121us/step - loss: 1.2435 - acc: 0.5692 - val_loss: 1.4859 - val_acc: 0.4752\n",
      "Epoch 13/50\n",
      "50000/50000 [==============================] - 6s 122us/step - loss: 1.2187 - acc: 0.5792 - val_loss: 1.4756 - val_acc: 0.4843\n",
      "Epoch 14/50\n",
      "50000/50000 [==============================] - 6s 121us/step - loss: 1.1927 - acc: 0.5882 - val_loss: 1.4811 - val_acc: 0.4792\n",
      "Epoch 15/50\n",
      "50000/50000 [==============================] - 6s 121us/step - loss: 1.1703 - acc: 0.5975 - val_loss: 1.4718 - val_acc: 0.4811\n",
      "Epoch 16/50\n",
      "50000/50000 [==============================] - 6s 121us/step - loss: 1.1473 - acc: 0.6046 - val_loss: 1.4624 - val_acc: 0.4872\n",
      "Epoch 17/50\n",
      "50000/50000 [==============================] - 6s 125us/step - loss: 1.1265 - acc: 0.6143 - val_loss: 1.4602 - val_acc: 0.4865\n",
      "Epoch 18/50\n",
      "50000/50000 [==============================] - 6s 121us/step - loss: 1.1026 - acc: 0.6221 - val_loss: 1.4653 - val_acc: 0.4860\n",
      "Epoch 19/50\n",
      "50000/50000 [==============================] - 6s 118us/step - loss: 1.0819 - acc: 0.6299 - val_loss: 1.4637 - val_acc: 0.4876\n",
      "Epoch 20/50\n",
      "50000/50000 [==============================] - 6s 122us/step - loss: 1.0602 - acc: 0.6380 - val_loss: 1.4581 - val_acc: 0.4939\n",
      "Epoch 21/50\n",
      "50000/50000 [==============================] - 6s 120us/step - loss: 1.0378 - acc: 0.6463 - val_loss: 1.4565 - val_acc: 0.4929\n",
      "Epoch 22/50\n",
      "50000/50000 [==============================] - 6s 121us/step - loss: 1.0171 - acc: 0.6538 - val_loss: 1.4598 - val_acc: 0.4939\n",
      "Epoch 23/50\n",
      "50000/50000 [==============================] - 6s 120us/step - loss: 0.9977 - acc: 0.6622 - val_loss: 1.4618 - val_acc: 0.4918\n",
      "Epoch 24/50\n",
      "50000/50000 [==============================] - 6s 123us/step - loss: 0.9785 - acc: 0.6686 - val_loss: 1.4685 - val_acc: 0.4914\n",
      "Epoch 25/50\n",
      "50000/50000 [==============================] - 6s 119us/step - loss: 0.9563 - acc: 0.6783 - val_loss: 1.4730 - val_acc: 0.4885\n",
      "Epoch 26/50\n",
      "50000/50000 [==============================] - 6s 120us/step - loss: 0.9363 - acc: 0.6875 - val_loss: 1.4594 - val_acc: 0.4966\n",
      "Epoch 27/50\n",
      "50000/50000 [==============================] - 6s 120us/step - loss: 0.9171 - acc: 0.6927 - val_loss: 1.4756 - val_acc: 0.4945\n",
      "Epoch 28/50\n",
      "50000/50000 [==============================] - 6s 125us/step - loss: 0.8957 - acc: 0.7043 - val_loss: 1.4652 - val_acc: 0.5006\n",
      "Epoch 29/50\n",
      "50000/50000 [==============================] - 6s 124us/step - loss: 0.8741 - acc: 0.7091 - val_loss: 1.4799 - val_acc: 0.4935\n",
      "Epoch 30/50\n",
      "50000/50000 [==============================] - 6s 118us/step - loss: 0.8551 - acc: 0.7200 - val_loss: 1.4908 - val_acc: 0.4906\n",
      "Epoch 31/50\n",
      "50000/50000 [==============================] - 6s 121us/step - loss: 0.8369 - acc: 0.7242 - val_loss: 1.4779 - val_acc: 0.4970\n",
      "Epoch 32/50\n",
      "50000/50000 [==============================] - 6s 124us/step - loss: 0.8165 - acc: 0.7339 - val_loss: 1.5050 - val_acc: 0.4932\n",
      "Epoch 33/50\n",
      "50000/50000 [==============================] - 6s 126us/step - loss: 0.7975 - acc: 0.7409 - val_loss: 1.5095 - val_acc: 0.4982\n",
      "Epoch 34/50\n",
      "50000/50000 [==============================] - 6s 128us/step - loss: 0.7779 - acc: 0.7487 - val_loss: 1.4900 - val_acc: 0.5012\n",
      "Epoch 35/50\n",
      "50000/50000 [==============================] - 6s 127us/step - loss: 0.7596 - acc: 0.7567 - val_loss: 1.5084 - val_acc: 0.4932\n",
      "Epoch 36/50\n",
      "50000/50000 [==============================] - 6s 126us/step - loss: 0.7421 - acc: 0.7643 - val_loss: 1.5155 - val_acc: 0.4961\n",
      "Epoch 37/50\n",
      "50000/50000 [==============================] - 6s 127us/step - loss: 0.7221 - acc: 0.7702 - val_loss: 1.5397 - val_acc: 0.4913\n",
      "Epoch 38/50\n",
      "50000/50000 [==============================] - 6s 128us/step - loss: 0.7059 - acc: 0.7776 - val_loss: 1.5581 - val_acc: 0.4899\n",
      "Epoch 39/50\n",
      "50000/50000 [==============================] - 6s 125us/step - loss: 0.6852 - acc: 0.7862 - val_loss: 1.5496 - val_acc: 0.4971\n",
      "Epoch 40/50\n",
      "50000/50000 [==============================] - 6s 125us/step - loss: 0.6671 - acc: 0.7921 - val_loss: 1.5562 - val_acc: 0.4936\n",
      "Epoch 41/50\n",
      "50000/50000 [==============================] - 6s 126us/step - loss: 0.6487 - acc: 0.8010 - val_loss: 1.5600 - val_acc: 0.4937\n",
      "Epoch 42/50\n",
      "50000/50000 [==============================] - 6s 127us/step - loss: 0.6302 - acc: 0.8081 - val_loss: 1.5839 - val_acc: 0.4912\n",
      "Epoch 43/50\n",
      "50000/50000 [==============================] - 6s 125us/step - loss: 0.6138 - acc: 0.8133 - val_loss: 1.5803 - val_acc: 0.4916\n",
      "Epoch 44/50\n",
      "50000/50000 [==============================] - 6s 129us/step - loss: 0.5966 - acc: 0.8214 - val_loss: 1.6073 - val_acc: 0.4952\n",
      "Epoch 45/50\n",
      "50000/50000 [==============================] - 6s 128us/step - loss: 0.5766 - acc: 0.8286 - val_loss: 1.6166 - val_acc: 0.4902\n",
      "Epoch 46/50\n",
      "50000/50000 [==============================] - 7s 131us/step - loss: 0.5622 - acc: 0.8331 - val_loss: 1.6643 - val_acc: 0.4810\n",
      "Epoch 47/50\n",
      "50000/50000 [==============================] - 6s 127us/step - loss: 0.5434 - acc: 0.8409 - val_loss: 1.6335 - val_acc: 0.4908\n",
      "Epoch 48/50\n",
      "50000/50000 [==============================] - 6s 123us/step - loss: 0.5286 - acc: 0.8479 - val_loss: 1.6468 - val_acc: 0.4957\n",
      "Epoch 49/50\n"
     ]
    },
    {
     "name": "stdout",
     "output_type": "stream",
     "text": [
      "50000/50000 [==============================] - 6s 127us/step - loss: 0.5114 - acc: 0.8549 - val_loss: 1.6639 - val_acc: 0.4915\n",
      "Epoch 50/50\n",
      "50000/50000 [==============================] - 6s 124us/step - loss: 0.4932 - acc: 0.8635 - val_loss: 1.6819 - val_acc: 0.4893\n"
     ]
    }
   ],
   "source": [
    "# 載入 Callbacks\n",
    "earlystop = EarlyStopping(monitor=\"val_acc\", \n",
    "                          patience=25, \n",
    "                          verbose=1\n",
    "                          )\n",
    "\n",
    "model = build_mlp(input_shape=x_train.shape[1:])\n",
    "model.summary()\n",
    "optimizer = keras.optimizers.SGD(lr=LEARNING_RATE, nesterov=True, momentum=MOMENTUM)\n",
    "model.compile(loss=\"categorical_crossentropy\", metrics=[\"accuracy\"], optimizer=optimizer)\n",
    "\n",
    "model.fit(x_train, y_train, \n",
    "          epochs=EPOCHS, \n",
    "          batch_size=BATCH_SIZE, \n",
    "          validation_data=(x_test, y_test), \n",
    "          shuffle=True,\n",
    "          callbacks=[earlystop]\n",
    "         )\n",
    "\n",
    "# Collect results\n",
    "train_loss = model.history.history[\"loss\"]\n",
    "valid_loss = model.history.history[\"val_loss\"]\n",
    "train_acc = model.history.history[\"acc\"]\n",
    "valid_acc = model.history.history[\"val_acc\"]"
   ]
  },
  {
   "cell_type": "code",
   "execution_count": 10,
   "metadata": {},
   "outputs": [
    {
     "data": {
      "image/png": "[encoded data removed]",
      "text/plain": [
       "<matplotlib.figure.Figure at 0x1834cf60>"
      ]
     },
     "metadata": {
      "needs_background": "light"
     },
     "output_type": "display_data"
    },
    {
     "data": {
      "image/png": "[encoded data removed]",
      "text/plain": [
       "<matplotlib.figure.Figure at 0x2c6505f8>"
      ]
     },
     "metadata": {
      "needs_background": "light"
     },
     "output_type": "display_data"
    }
   ],
   "source": [
    "plt.plot(range(len(train_loss)), train_loss, label=\"train loss\")\n",
    "plt.plot(range(len(valid_loss)), valid_loss, label=\"valid loss\")\n",
    "plt.legend()\n",
    "plt.title(\"Loss\")\n",
    "plt.show()\n",
    "\n",
    "plt.plot(range(len(train_acc)), train_acc, label=\"train accuracy\")\n",
    "plt.plot(range(len(valid_acc)), valid_acc, label=\"valid accuracy\")\n",
    "plt.legend()\n",
    "plt.title(\"Accuracy\")\n",
    "plt.show()"
   ]
  },
  {
   "cell_type": "code",
   "execution_count": null,
   "metadata": {},
   "outputs": [],
   "source": []
  }
 ],
 "metadata": {
  "kernelspec": {
   "display_name": "Python 3",
   "language": "python",
   "name": "python3"
  },
  "language_info": {
   "codemirror_mode": {
    "name": "ipython",
    "version": 3
   },
   "file_extension": ".py",
   "mimetype": "text/x-python",
   "name": "python",
   "nbconvert_exporter": "python",
   "pygments_lexer": "ipython3",
   "version": "3.6.8"
  }
 },
 "nbformat": 4,
 "nbformat_minor": 2
}
